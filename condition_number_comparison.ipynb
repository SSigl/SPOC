{
 "cells": [
  {
   "cell_type": "code",
   "execution_count": 1,
   "metadata": {
    "collapsed": true,
    "run_control": {
     "frozen": false,
     "read_only": false
    }
   },
   "outputs": [],
   "source": [
    "import numpy as np\n",
    "import pandas as pd\n",
    "import scipy as sp\n",
    "import scipy.sparse.linalg\n",
    "import matplotlib.pyplot as plt\n",
    "import seaborn as sns\n",
    "from cvxpy import *\n",
    "%matplotlib inline\n",
    "from generate_SPOC_model import *\n",
    "import new_SPOC as new_SPOC\n",
    "import SPOC as old_SPOC\n",
    "from tqdm import tqdm_notebook\n",
    "\n",
    "from multiprocessing.dummy import Pool as ThreadPool\n",
    "from functools import partial\n",
    "\n",
    "eigs = sp.sparse.linalg.eigs"
   ]
  },
  {
   "cell_type": "code",
   "execution_count": 2,
   "metadata": {
    "collapsed": true,
    "run_control": {
     "frozen": false,
     "read_only": false
    }
   },
   "outputs": [],
   "source": [
    "def find_condition_number(n_clusters, n_iter, array):\n",
    "    '''\n",
    "    function to make n_iter iterations of generation P\n",
    "    returns np.mean and np.std for F which was computed by \n",
    "    basic method and for transformed F (via rotation of ellipsoid)\n",
    "    \n",
    "    array is [n_nodes, pure_nodes_number]\n",
    "    '''\n",
    "    new_cond = []\n",
    "    old_cond = []\n",
    "    n_nodes = array[0]\n",
    "    pure_nodes_number = array[1]\n",
    "    \n",
    "    for i in range(n_iter):\n",
    "        A, Theta, B = generate_a(n_nodes=n_nodes, \\\n",
    "                                 n_clusters=n_clusters, pure_nodes_number=pure_nodes_number, seed=i)\n",
    "        U, Lambda = old_SPOC.get_U_L(A, k=n_clusters)\n",
    "        old_F, _ = old_SPOC.get_F_B(U, Lambda, r=n_clusters)\n",
    "        \n",
    "        Q = new_SPOC.new_get_Q(U)\n",
    "        new_U, transform_matrix = new_SPOC.new_transform_U(U, Q, return_transform_matrix=True)\n",
    "        new_F = np.dot(transform_matrix, old_F.T).T\n",
    "        \n",
    "        cond = np.linalg.cond(new_F)\n",
    "        new_cond.append(cond)\n",
    "        \n",
    "        cond = np.linalg.cond(old_F)\n",
    "        old_cond.append(cond)\n",
    "    \n",
    "    print(\"before \", np.mean(new_cond))\n",
    "    print(\"after \", np.mean(old_cond))\n",
    "    print\n",
    "    \n",
    "    return np.mean(new_cond), np.std(new_cond), np.mean(old_cond), np.std(old_cond)"
   ]
  },
  {
   "cell_type": "code",
   "execution_count": 3,
   "metadata": {
    "run_control": {
     "frozen": false,
     "read_only": false
    }
   },
   "outputs": [
    {
     "data": {
      "text/plain": [
       "'\\nmultithreadin version of computation\\n'"
      ]
     },
     "execution_count": 3,
     "metadata": {},
     "output_type": "execute_result"
    }
   ],
   "source": [
    "'''\n",
    "multithreadin version of computation\n",
    "'''\n",
    "\n",
    "# n_clusters = 5\n",
    "# n_iter = 5\n",
    "\n",
    "# array_of_nodes = np.arange(200, 2200, 200)\n",
    "# array_of_pures = np.arange(20, 120, 20)\n",
    "\n",
    "# array_of_nodes, array_of_pures = np.meshgrid(array_of_nodes, array_of_pures)\n",
    "# array = np.vstack((array_of_nodes.ravel(), array_of_pures.ravel())).T\n",
    "\n",
    "# # Make the Pool of workers\n",
    "# pool = ThreadPool(4)\n",
    "# function = partial(find_condition_number, n_clusters, n_iter)\n",
    "# results = pool.map(function, array)\n",
    "\n",
    "\n",
    "# #close the pool and wait for the work to finish \n",
    "# pool.close()\n",
    "# pool.join()\n",
    "\n",
    "# %time"
   ]
  },
  {
   "cell_type": "code",
   "execution_count": 4,
   "metadata": {
    "run_control": {
     "frozen": false,
     "read_only": false
    }
   },
   "outputs": [
    {
     "name": "stdout",
     "output_type": "stream",
     "text": [
      "('before ', 1.4654332663129686)\n",
      "('after ', 1.3007852574039354)\n",
      "\n",
      "('before ', 1.5965491983604616)\n",
      "('after ', 1.4223955328701625)\n",
      "\n",
      "('before ', 1.4642656540703463)\n",
      "('after ', 1.4418664394770804)\n",
      "\n",
      "('before ', 1.3013105384956565)\n",
      "('after ', 1.3002292447661385)\n",
      "\n"
     ]
    },
    {
     "ename": "KeyboardInterrupt",
     "evalue": "",
     "output_type": "error",
     "traceback": [
      "\u001b[0;31m---------------------------------------------------------------------------\u001b[0m",
      "\u001b[0;31mKeyboardInterrupt\u001b[0m                         Traceback (most recent call last)",
      "\u001b[0;32m<ipython-input-4-1828fa0f76a9>\u001b[0m in \u001b[0;36m<module>\u001b[0;34m()\u001b[0m\n\u001b[1;32m      9\u001b[0m \u001b[0;34m\u001b[0m\u001b[0m\n\u001b[1;32m     10\u001b[0m \u001b[0;32mfor\u001b[0m \u001b[0mtmp\u001b[0m \u001b[0;32min\u001b[0m \u001b[0marray\u001b[0m\u001b[0;34m:\u001b[0m\u001b[0;34m\u001b[0m\u001b[0m\n\u001b[0;32m---> 11\u001b[0;31m     \u001b[0mfind_condition_number\u001b[0m\u001b[0;34m(\u001b[0m\u001b[0mn_clusters\u001b[0m\u001b[0;34m,\u001b[0m \u001b[0mn_iter\u001b[0m\u001b[0;34m,\u001b[0m \u001b[0mtmp\u001b[0m\u001b[0;34m)\u001b[0m\u001b[0;34m\u001b[0m\u001b[0m\n\u001b[0m",
      "\u001b[0;32m<ipython-input-2-4f55a4a4bdb2>\u001b[0m in \u001b[0;36mfind_condition_number\u001b[0;34m(n_clusters, n_iter, array)\u001b[0m\n\u001b[1;32m     13\u001b[0m \u001b[0;34m\u001b[0m\u001b[0m\n\u001b[1;32m     14\u001b[0m     \u001b[0;32mfor\u001b[0m \u001b[0mi\u001b[0m \u001b[0;32min\u001b[0m \u001b[0mrange\u001b[0m\u001b[0;34m(\u001b[0m\u001b[0mn_iter\u001b[0m\u001b[0;34m)\u001b[0m\u001b[0;34m:\u001b[0m\u001b[0;34m\u001b[0m\u001b[0m\n\u001b[0;32m---> 15\u001b[0;31m         \u001b[0mA\u001b[0m\u001b[0;34m,\u001b[0m \u001b[0mTheta\u001b[0m\u001b[0;34m,\u001b[0m \u001b[0mB\u001b[0m \u001b[0;34m=\u001b[0m \u001b[0mgenerate_a\u001b[0m\u001b[0;34m(\u001b[0m\u001b[0mn_nodes\u001b[0m\u001b[0;34m=\u001b[0m\u001b[0mn_nodes\u001b[0m\u001b[0;34m,\u001b[0m                                  \u001b[0mn_clusters\u001b[0m\u001b[0;34m=\u001b[0m\u001b[0mn_clusters\u001b[0m\u001b[0;34m,\u001b[0m \u001b[0mpure_nodes_number\u001b[0m\u001b[0;34m=\u001b[0m\u001b[0mpure_nodes_number\u001b[0m\u001b[0;34m,\u001b[0m \u001b[0mseed\u001b[0m\u001b[0;34m=\u001b[0m\u001b[0mi\u001b[0m\u001b[0;34m)\u001b[0m\u001b[0;34m\u001b[0m\u001b[0m\n\u001b[0m\u001b[1;32m     16\u001b[0m         \u001b[0mU\u001b[0m\u001b[0;34m,\u001b[0m \u001b[0mLambda\u001b[0m \u001b[0;34m=\u001b[0m \u001b[0mold_SPOC\u001b[0m\u001b[0;34m.\u001b[0m\u001b[0mget_U_L\u001b[0m\u001b[0;34m(\u001b[0m\u001b[0mA\u001b[0m\u001b[0;34m,\u001b[0m \u001b[0mk\u001b[0m\u001b[0;34m=\u001b[0m\u001b[0mn_clusters\u001b[0m\u001b[0;34m)\u001b[0m\u001b[0;34m\u001b[0m\u001b[0m\n\u001b[1;32m     17\u001b[0m         \u001b[0mold_F\u001b[0m\u001b[0;34m,\u001b[0m \u001b[0m_\u001b[0m \u001b[0;34m=\u001b[0m \u001b[0mold_SPOC\u001b[0m\u001b[0;34m.\u001b[0m\u001b[0mget_F_B\u001b[0m\u001b[0;34m(\u001b[0m\u001b[0mU\u001b[0m\u001b[0;34m,\u001b[0m \u001b[0mLambda\u001b[0m\u001b[0;34m,\u001b[0m \u001b[0mr\u001b[0m\u001b[0;34m=\u001b[0m\u001b[0mn_clusters\u001b[0m\u001b[0;34m)\u001b[0m\u001b[0;34m\u001b[0m\u001b[0m\n",
      "\u001b[0;32m/Users/Roman/Desktop/SPOC/generate_SPOC_model.pyc\u001b[0m in \u001b[0;36mgenerate_a\u001b[0;34m(n_nodes, n_clusters, pure_nodes_number, B, Theta, reflect, alphas, seed)\u001b[0m\n",
      "\u001b[0;32m/Users/Roman/Desktop/SPOC/generate_SPOC_model.pyc\u001b[0m in \u001b[0;36mP_to_A\u001b[0;34m(P, reflect, seed)\u001b[0m\n",
      "\u001b[0;32m/usr/local/lib/python2.7/site-packages/scipy-0.19.0-py2.7-macosx-10.12-x86_64.egg/scipy/stats/_distn_infrastructure.pyc\u001b[0m in \u001b[0;36mrvs\u001b[0;34m(self, *args, **kwargs)\u001b[0m\n\u001b[1;32m   2808\u001b[0m         \"\"\"\n\u001b[1;32m   2809\u001b[0m         \u001b[0mkwargs\u001b[0m\u001b[0;34m[\u001b[0m\u001b[0;34m'discrete'\u001b[0m\u001b[0;34m]\u001b[0m \u001b[0;34m=\u001b[0m \u001b[0mTrue\u001b[0m\u001b[0;34m\u001b[0m\u001b[0m\n\u001b[0;32m-> 2810\u001b[0;31m         \u001b[0;32mreturn\u001b[0m \u001b[0msuper\u001b[0m\u001b[0;34m(\u001b[0m\u001b[0mrv_discrete\u001b[0m\u001b[0;34m,\u001b[0m \u001b[0mself\u001b[0m\u001b[0;34m)\u001b[0m\u001b[0;34m.\u001b[0m\u001b[0mrvs\u001b[0m\u001b[0;34m(\u001b[0m\u001b[0;34m*\u001b[0m\u001b[0margs\u001b[0m\u001b[0;34m,\u001b[0m \u001b[0;34m**\u001b[0m\u001b[0mkwargs\u001b[0m\u001b[0;34m)\u001b[0m\u001b[0;34m\u001b[0m\u001b[0m\n\u001b[0m\u001b[1;32m   2811\u001b[0m \u001b[0;34m\u001b[0m\u001b[0m\n\u001b[1;32m   2812\u001b[0m     \u001b[0;32mdef\u001b[0m \u001b[0mpmf\u001b[0m\u001b[0;34m(\u001b[0m\u001b[0mself\u001b[0m\u001b[0;34m,\u001b[0m \u001b[0mk\u001b[0m\u001b[0;34m,\u001b[0m \u001b[0;34m*\u001b[0m\u001b[0margs\u001b[0m\u001b[0;34m,\u001b[0m \u001b[0;34m**\u001b[0m\u001b[0mkwds\u001b[0m\u001b[0;34m)\u001b[0m\u001b[0;34m:\u001b[0m\u001b[0;34m\u001b[0m\u001b[0m\n",
      "\u001b[0;32m/usr/local/lib/python2.7/site-packages/scipy-0.19.0-py2.7-macosx-10.12-x86_64.egg/scipy/stats/_distn_infrastructure.pyc\u001b[0m in \u001b[0;36mrvs\u001b[0;34m(self, *args, **kwds)\u001b[0m\n\u001b[1;32m    952\u001b[0m         \u001b[0;31m# by _rvs().\u001b[0m\u001b[0;34m\u001b[0m\u001b[0;34m\u001b[0m\u001b[0m\n\u001b[1;32m    953\u001b[0m         \u001b[0mself\u001b[0m\u001b[0;34m.\u001b[0m\u001b[0m_size\u001b[0m \u001b[0;34m=\u001b[0m \u001b[0msize\u001b[0m\u001b[0;34m\u001b[0m\u001b[0m\n\u001b[0;32m--> 954\u001b[0;31m         \u001b[0mvals\u001b[0m \u001b[0;34m=\u001b[0m \u001b[0mself\u001b[0m\u001b[0;34m.\u001b[0m\u001b[0m_rvs\u001b[0m\u001b[0;34m(\u001b[0m\u001b[0;34m*\u001b[0m\u001b[0margs\u001b[0m\u001b[0;34m)\u001b[0m\u001b[0;34m\u001b[0m\u001b[0m\n\u001b[0m\u001b[1;32m    955\u001b[0m \u001b[0;34m\u001b[0m\u001b[0m\n\u001b[1;32m    956\u001b[0m         \u001b[0mvals\u001b[0m \u001b[0;34m=\u001b[0m \u001b[0mvals\u001b[0m \u001b[0;34m*\u001b[0m \u001b[0mscale\u001b[0m \u001b[0;34m+\u001b[0m \u001b[0mloc\u001b[0m\u001b[0;34m\u001b[0m\u001b[0m\n",
      "\u001b[0;32m/usr/local/lib/python2.7/site-packages/scipy-0.19.0-py2.7-macosx-10.12-x86_64.egg/scipy/stats/_discrete_distns.pyc\u001b[0m in \u001b[0;36m_rvs\u001b[0;34m(self, p)\u001b[0m\n\u001b[1;32m    107\u001b[0m     \"\"\"\n\u001b[1;32m    108\u001b[0m     \u001b[0;32mdef\u001b[0m \u001b[0m_rvs\u001b[0m\u001b[0;34m(\u001b[0m\u001b[0mself\u001b[0m\u001b[0;34m,\u001b[0m \u001b[0mp\u001b[0m\u001b[0;34m)\u001b[0m\u001b[0;34m:\u001b[0m\u001b[0;34m\u001b[0m\u001b[0m\n\u001b[0;32m--> 109\u001b[0;31m         \u001b[0;32mreturn\u001b[0m \u001b[0mbinom_gen\u001b[0m\u001b[0;34m.\u001b[0m\u001b[0m_rvs\u001b[0m\u001b[0;34m(\u001b[0m\u001b[0mself\u001b[0m\u001b[0;34m,\u001b[0m \u001b[0;36m1\u001b[0m\u001b[0;34m,\u001b[0m \u001b[0mp\u001b[0m\u001b[0;34m)\u001b[0m\u001b[0;34m\u001b[0m\u001b[0m\n\u001b[0m\u001b[1;32m    110\u001b[0m \u001b[0;34m\u001b[0m\u001b[0m\n\u001b[1;32m    111\u001b[0m     \u001b[0;32mdef\u001b[0m \u001b[0m_argcheck\u001b[0m\u001b[0;34m(\u001b[0m\u001b[0mself\u001b[0m\u001b[0;34m,\u001b[0m \u001b[0mp\u001b[0m\u001b[0;34m)\u001b[0m\u001b[0;34m:\u001b[0m\u001b[0;34m\u001b[0m\u001b[0m\n",
      "\u001b[0;32m/usr/local/lib/python2.7/site-packages/scipy-0.19.0-py2.7-macosx-10.12-x86_64.egg/scipy/stats/_discrete_distns.pyc\u001b[0m in \u001b[0;36m_rvs\u001b[0;34m(self, n, p)\u001b[0m\n\u001b[1;32m     38\u001b[0m     \"\"\"\n\u001b[1;32m     39\u001b[0m     \u001b[0;32mdef\u001b[0m \u001b[0m_rvs\u001b[0m\u001b[0;34m(\u001b[0m\u001b[0mself\u001b[0m\u001b[0;34m,\u001b[0m \u001b[0mn\u001b[0m\u001b[0;34m,\u001b[0m \u001b[0mp\u001b[0m\u001b[0;34m)\u001b[0m\u001b[0;34m:\u001b[0m\u001b[0;34m\u001b[0m\u001b[0m\n\u001b[0;32m---> 40\u001b[0;31m         \u001b[0;32mreturn\u001b[0m \u001b[0mself\u001b[0m\u001b[0;34m.\u001b[0m\u001b[0m_random_state\u001b[0m\u001b[0;34m.\u001b[0m\u001b[0mbinomial\u001b[0m\u001b[0;34m(\u001b[0m\u001b[0mn\u001b[0m\u001b[0;34m,\u001b[0m \u001b[0mp\u001b[0m\u001b[0;34m,\u001b[0m \u001b[0mself\u001b[0m\u001b[0;34m.\u001b[0m\u001b[0m_size\u001b[0m\u001b[0;34m)\u001b[0m\u001b[0;34m\u001b[0m\u001b[0m\n\u001b[0m\u001b[1;32m     41\u001b[0m \u001b[0;34m\u001b[0m\u001b[0m\n\u001b[1;32m     42\u001b[0m     \u001b[0;32mdef\u001b[0m \u001b[0m_argcheck\u001b[0m\u001b[0;34m(\u001b[0m\u001b[0mself\u001b[0m\u001b[0;34m,\u001b[0m \u001b[0mn\u001b[0m\u001b[0;34m,\u001b[0m \u001b[0mp\u001b[0m\u001b[0;34m)\u001b[0m\u001b[0;34m:\u001b[0m\u001b[0;34m\u001b[0m\u001b[0m\n",
      "\u001b[0;31mKeyboardInterrupt\u001b[0m: "
     ]
    }
   ],
   "source": [
    "n_clusters = 2\n",
    "n_iter = 5\n",
    "\n",
    "array_of_nodes = np.arange(200, 2200, 200)\n",
    "array_of_pures = np.arange(20, 120, 20)\n",
    "\n",
    "array_of_nodes, array_of_pures = np.meshgrid(array_of_nodes, array_of_pures)\n",
    "array = np.vstack((array_of_nodes.ravel(), array_of_pures.ravel())).T\n",
    "\n",
    "for tmp in array:\n",
    "    find_condition_number(n_clusters, n_iter, tmp)"
   ]
  },
  {
   "cell_type": "code",
   "execution_count": null,
   "metadata": {
    "collapsed": true,
    "run_control": {
     "frozen": false,
     "read_only": false
    }
   },
   "outputs": [],
   "source": []
  }
 ],
 "metadata": {
  "kernelspec": {
   "display_name": "Python 2",
   "language": "python",
   "name": "python2"
  },
  "language_info": {
   "codemirror_mode": {
    "name": "ipython",
    "version": 2
   },
   "file_extension": ".py",
   "mimetype": "text/x-python",
   "name": "python",
   "nbconvert_exporter": "python",
   "pygments_lexer": "ipython2",
   "version": "2.7.13"
  }
 },
 "nbformat": 4,
 "nbformat_minor": 2
}
