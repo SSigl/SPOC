{
 "cells": [
  {
   "cell_type": "code",
   "execution_count": 1,
   "metadata": {
    "collapsed": true,
    "run_control": {
     "frozen": false,
     "read_only": false
    }
   },
   "outputs": [],
   "source": [
    "from collections import defaultdict\n",
    "import glob\n",
    "from time import time\n",
    "\n",
    "import numpy as np\n",
    "import pandas as pd\n",
    "import networkx as nx\n",
    "from new_SPOC import *\n",
    "import old_SPOC\n",
    "from generate_SPOC_model import *\n",
    "import matplotlib.pyplot as plt\n",
    "#import matlab.engine\n",
    "from tqdm import tqdm_notebook\n",
    "from IPython.display import clear_output, display\n",
    "\n",
    "%matplotlib inline\n",
    "\n",
    "import random\n",
    "random.seed(42)\n",
    "np.random.seed(42)\n",
    "\n",
    "#eng = matlab.engine.start_matlab()"
   ]
  },
  {
   "cell_type": "code",
   "execution_count": 2,
   "metadata": {
    "collapsed": true
   },
   "outputs": [],
   "source": [
    "def load_data(adjacency_filepath, community_filepath):\n",
    "    G=nx.read_edgelist(adjacency_filepath, nodetype=int)\n",
    "    nodelist = list(G.nodes())\n",
    "    node2indx = {n: i for i, n in enumerate(nodelist)}\n",
    "    A = nx.to_scipy_sparse_matrix(G, nodelist=nodelist)\n",
    "    comms = {}\n",
    "\n",
    "    with open(community_filepath) as f:\n",
    "        for line in f:\n",
    "            args = line.split()\n",
    "            k = int(args[1]) - 1\n",
    "            if k not in comms:\n",
    "                comms[k] = ([], [])\n",
    "            comms[k][0].append(node2indx[int(args[0])])\n",
    "            comms[k][1].append(float(args[2]))\n",
    "\n",
    "    comm_count = len(comms)\n",
    "    comms_array = np.zeros((A.shape[0], comm_count))\n",
    "    for i in range(comm_count):\n",
    "        comms_array[comms[i][0], i] = comms[i][1]\n",
    "    return nodelist, A, comms_array"
   ]
  },
  {
   "cell_type": "code",
   "execution_count": null,
   "metadata": {},
   "outputs": [
    {
     "name": "stdout",
     "output_type": "stream",
     "text": [
      "./data/coauthorship/DBLP5_adjacency.txt, ./data/coauthorship/DBLP5_community.txt\n",
      "./data/coauthorship/DBLP1_adjacency.txt, ./data/coauthorship/DBLP1_community.txt\n",
      "./data/coauthorship/DBLP4_adjacency.txt, ./data/coauthorship/DBLP4_community.txt\n",
      "./data/coauthorship/MAG2_adjacency.txt, ./data/coauthorship/MAG2_community.txt\n",
      "./data/coauthorship/MAG1_adjacency.txt, ./data/coauthorship/MAG1_community.txt\n",
      "./data/coauthorship/DBLP3_adjacency.txt, ./data/coauthorship/DBLP3_community.txt\n",
      "./data/coauthorship/DBLP2_adjacency.txt, ./data/coauthorship/DBLP2_community.txt\n"
     ]
    }
   ],
   "source": [
    "data_paths = glob.glob('./data/coauthorship/*_adjacency.txt')\n",
    "data_paths = [(adj, adj.replace(\"adjacency\", \"community\"))for adj in data_paths]\n",
    "print(\"\\n\".join(\"{}, {}\".format(*data) for data in data_paths))"
   ]
  },
  {
   "cell_type": "markdown",
   "metadata": {
    "run_control": {
     "frozen": false,
     "read_only": false
    }
   },
   "source": [
    "#### SPOC methods from A matrix"
   ]
  },
  {
   "cell_type": "code",
   "execution_count": null,
   "metadata": {
    "scrolled": true
   },
   "outputs": [
    {
     "name": "stdout",
     "output_type": "stream",
     "text": [
      "\t SPOC\n",
      "1505162081.774903\n",
      "('./data/coauthorship/DBLP5_adjacency.txt', './data/coauthorship/DBLP5_community.txt') ... clusters: 4 nodes:  42351\n",
      "{'cluster #': 4, 'Method': 'SPOC', 'Dataset': 'DBLP5', 'node #': 42351, 'relative MSE': 0.8514250972200097, 'time (sec)': 2.5185492038726807, 'Mean Spearman coefficient': 0.13115661771943771}\n",
      "1505162085.9268477\n",
      "('./data/coauthorship/DBLP1_adjacency.txt', './data/coauthorship/DBLP1_community.txt') ... clusters: 6 nodes:  30566\n",
      "{'cluster #': 6, 'Method': 'SPOC', 'Dataset': 'DBLP1', 'node #': 30566, 'relative MSE': 0.89860087128140698, 'time (sec)': 1.7638185024261475, 'Mean Spearman coefficient': 0.26802316958306688}\n",
      "1505162090.254981\n",
      "('./data/coauthorship/DBLP4_adjacency.txt', './data/coauthorship/DBLP4_community.txt') ... clusters: 3 nodes:  25481\n",
      "{'cluster #': 3, 'Method': 'SPOC', 'Dataset': 'DBLP4', 'node #': 25481, 'relative MSE': 0.80242836762772407, 'time (sec)': 1.4039123058319092, 'Mean Spearman coefficient': 0.32928808354821898}\n",
      "1505162092.577271\n",
      "('./data/coauthorship/MAG2_adjacency.txt', './data/coauthorship/MAG2_community.txt') ... clusters: 3 nodes:  108064\n",
      "{'cluster #': 3, 'Method': 'SPOC', 'Dataset': 'MAG2', 'node #': 108064, 'relative MSE': 0.80897425537109691, 'time (sec)': 5.049124479293823, 'Mean Spearman coefficient': 0.16045539760982952}\n",
      "1505162108.0377233\n"
     ]
    }
   ],
   "source": [
    "methods = {\"SPOC\": lambda A, n_clusters: SPOC(A, n_clusters, use_ellipsoid=False, use_cvxpy=False),\n",
    "           #\"SPOC_old\": lambda A, n_clusters: old_SPOC.SPOC(A, n_clusters),\n",
    "           \"SPOC_bootstrap\": lambda A, n_clusters: SPOC_bootstrap(A, n_clusters, n_repetitions=150, std_num=3),\n",
    "          }\n",
    "\n",
    "results = []\n",
    "for method_name in methods:\n",
    "    print('\\t', method_name)\n",
    "    for data in data_paths:\n",
    "        print(time())\n",
    "        nodelist, A, comms = load_data(*data)\n",
    "        n_clusters = comms.shape[1]\n",
    "        print(data, '...', 'clusters:', n_clusters, \"nodes: \", A.shape[0])\n",
    "        time_start = time()\n",
    "        theta, b = methods[method_name](A, n_clusters)\n",
    "        time_end = time()\n",
    "        res = {\"relative MSE\": find_permutation_Theta(comms, theta)[0], \n",
    "               \"Mean Spearman coefficient\": find_permutation_spearmanr(comms, theta)[0],\n",
    "               \"Method\": method_name,\n",
    "               \"Dataset\": data[0].split(\"/\")[-1].split(\"_\")[0],\n",
    "               \"cluster #\": n_clusters, \n",
    "               \"node #\": A.shape[0],\n",
    "               \"time (sec)\": time_end - time_start,\n",
    "              }\n",
    "        results.append(res)\n",
    "        print(res)"
   ]
  },
  {
   "cell_type": "code",
   "execution_count": 14,
   "metadata": {},
   "outputs": [
    {
     "data": {
      "text/html": [
       "<div>\n",
       "<style>\n",
       "    .dataframe thead tr:only-child th {\n",
       "        text-align: right;\n",
       "    }\n",
       "\n",
       "    .dataframe thead th {\n",
       "        text-align: left;\n",
       "    }\n",
       "\n",
       "    .dataframe tbody tr th {\n",
       "        vertical-align: top;\n",
       "    }\n",
       "</style>\n",
       "<table border=\"1\" class=\"dataframe\">\n",
       "  <thead>\n",
       "    <tr style=\"text-align: right;\">\n",
       "      <th></th>\n",
       "      <th>Dataset</th>\n",
       "      <th>Mean Spearman coefficient</th>\n",
       "      <th>Method</th>\n",
       "      <th>cluster #</th>\n",
       "      <th>node #</th>\n",
       "      <th>relative MSE</th>\n",
       "      <th>time (sec)</th>\n",
       "    </tr>\n",
       "  </thead>\n",
       "  <tbody>\n",
       "    <tr>\n",
       "      <th>0</th>\n",
       "      <td>DBLP5</td>\n",
       "      <td>0.131165</td>\n",
       "      <td>SPOC_new</td>\n",
       "      <td>4</td>\n",
       "      <td>42351</td>\n",
       "      <td>0.851425</td>\n",
       "      <td>2.441013</td>\n",
       "    </tr>\n",
       "    <tr>\n",
       "      <th>1</th>\n",
       "      <td>DBLP1</td>\n",
       "      <td>0.268031</td>\n",
       "      <td>SPOC_new</td>\n",
       "      <td>6</td>\n",
       "      <td>30566</td>\n",
       "      <td>0.898601</td>\n",
       "      <td>1.842390</td>\n",
       "    </tr>\n",
       "    <tr>\n",
       "      <th>2</th>\n",
       "      <td>DBLP4</td>\n",
       "      <td>0.328756</td>\n",
       "      <td>SPOC_new</td>\n",
       "      <td>3</td>\n",
       "      <td>25481</td>\n",
       "      <td>0.802428</td>\n",
       "      <td>1.627248</td>\n",
       "    </tr>\n",
       "    <tr>\n",
       "      <th>3</th>\n",
       "      <td>MAG2</td>\n",
       "      <td>0.160465</td>\n",
       "      <td>SPOC_new</td>\n",
       "      <td>3</td>\n",
       "      <td>108064</td>\n",
       "      <td>0.808974</td>\n",
       "      <td>5.960476</td>\n",
       "    </tr>\n",
       "    <tr>\n",
       "      <th>4</th>\n",
       "      <td>MAG1</td>\n",
       "      <td>0.036011</td>\n",
       "      <td>SPOC_new</td>\n",
       "      <td>3</td>\n",
       "      <td>142788</td>\n",
       "      <td>0.812005</td>\n",
       "      <td>9.247403</td>\n",
       "    </tr>\n",
       "    <tr>\n",
       "      <th>5</th>\n",
       "      <td>DBLP3</td>\n",
       "      <td>0.285753</td>\n",
       "      <td>SPOC_new</td>\n",
       "      <td>3</td>\n",
       "      <td>13315</td>\n",
       "      <td>0.785214</td>\n",
       "      <td>0.986021</td>\n",
       "    </tr>\n",
       "    <tr>\n",
       "      <th>6</th>\n",
       "      <td>DBLP2</td>\n",
       "      <td>0.163441</td>\n",
       "      <td>SPOC_new</td>\n",
       "      <td>3</td>\n",
       "      <td>16817</td>\n",
       "      <td>0.799132</td>\n",
       "      <td>1.039304</td>\n",
       "    </tr>\n",
       "    <tr>\n",
       "      <th>7</th>\n",
       "      <td>DBLP5</td>\n",
       "      <td>0.131124</td>\n",
       "      <td>SPOC_bootstrap</td>\n",
       "      <td>4</td>\n",
       "      <td>42351</td>\n",
       "      <td>0.851425</td>\n",
       "      <td>2.936405</td>\n",
       "    </tr>\n",
       "    <tr>\n",
       "      <th>8</th>\n",
       "      <td>DBLP1</td>\n",
       "      <td>0.268024</td>\n",
       "      <td>SPOC_bootstrap</td>\n",
       "      <td>6</td>\n",
       "      <td>30566</td>\n",
       "      <td>0.898601</td>\n",
       "      <td>1.916946</td>\n",
       "    </tr>\n",
       "    <tr>\n",
       "      <th>9</th>\n",
       "      <td>DBLP4</td>\n",
       "      <td>0.328841</td>\n",
       "      <td>SPOC_bootstrap</td>\n",
       "      <td>3</td>\n",
       "      <td>25481</td>\n",
       "      <td>0.802428</td>\n",
       "      <td>1.458006</td>\n",
       "    </tr>\n",
       "    <tr>\n",
       "      <th>10</th>\n",
       "      <td>MAG2</td>\n",
       "      <td>0.160461</td>\n",
       "      <td>SPOC_bootstrap</td>\n",
       "      <td>3</td>\n",
       "      <td>108064</td>\n",
       "      <td>0.808974</td>\n",
       "      <td>7.041783</td>\n",
       "    </tr>\n",
       "    <tr>\n",
       "      <th>11</th>\n",
       "      <td>MAG1</td>\n",
       "      <td>0.036011</td>\n",
       "      <td>SPOC_bootstrap</td>\n",
       "      <td>3</td>\n",
       "      <td>142788</td>\n",
       "      <td>0.812005</td>\n",
       "      <td>6.756211</td>\n",
       "    </tr>\n",
       "    <tr>\n",
       "      <th>12</th>\n",
       "      <td>DBLP3</td>\n",
       "      <td>0.285752</td>\n",
       "      <td>SPOC_bootstrap</td>\n",
       "      <td>3</td>\n",
       "      <td>13315</td>\n",
       "      <td>0.785214</td>\n",
       "      <td>0.697132</td>\n",
       "    </tr>\n",
       "    <tr>\n",
       "      <th>13</th>\n",
       "      <td>DBLP2</td>\n",
       "      <td>0.163430</td>\n",
       "      <td>SPOC_bootstrap</td>\n",
       "      <td>3</td>\n",
       "      <td>16817</td>\n",
       "      <td>0.799132</td>\n",
       "      <td>0.828098</td>\n",
       "    </tr>\n",
       "    <tr>\n",
       "      <th>14</th>\n",
       "      <td>DBLP5</td>\n",
       "      <td>0.131025</td>\n",
       "      <td>SPOC_old</td>\n",
       "      <td>4</td>\n",
       "      <td>42351</td>\n",
       "      <td>0.851425</td>\n",
       "      <td>1.973558</td>\n",
       "    </tr>\n",
       "    <tr>\n",
       "      <th>15</th>\n",
       "      <td>DBLP1</td>\n",
       "      <td>0.267830</td>\n",
       "      <td>SPOC_old</td>\n",
       "      <td>6</td>\n",
       "      <td>30566</td>\n",
       "      <td>0.898605</td>\n",
       "      <td>1.468206</td>\n",
       "    </tr>\n",
       "    <tr>\n",
       "      <th>16</th>\n",
       "      <td>DBLP4</td>\n",
       "      <td>0.329037</td>\n",
       "      <td>SPOC_old</td>\n",
       "      <td>3</td>\n",
       "      <td>25481</td>\n",
       "      <td>0.802428</td>\n",
       "      <td>1.253414</td>\n",
       "    </tr>\n",
       "    <tr>\n",
       "      <th>17</th>\n",
       "      <td>MAG2</td>\n",
       "      <td>0.160464</td>\n",
       "      <td>SPOC_old</td>\n",
       "      <td>3</td>\n",
       "      <td>108064</td>\n",
       "      <td>0.808974</td>\n",
       "      <td>5.854360</td>\n",
       "    </tr>\n",
       "    <tr>\n",
       "      <th>18</th>\n",
       "      <td>MAG1</td>\n",
       "      <td>0.060339</td>\n",
       "      <td>SPOC_old</td>\n",
       "      <td>3</td>\n",
       "      <td>142788</td>\n",
       "      <td>0.812330</td>\n",
       "      <td>7.335347</td>\n",
       "    </tr>\n",
       "    <tr>\n",
       "      <th>19</th>\n",
       "      <td>DBLP3</td>\n",
       "      <td>0.285747</td>\n",
       "      <td>SPOC_old</td>\n",
       "      <td>3</td>\n",
       "      <td>13315</td>\n",
       "      <td>0.785214</td>\n",
       "      <td>0.685185</td>\n",
       "    </tr>\n",
       "    <tr>\n",
       "      <th>20</th>\n",
       "      <td>DBLP2</td>\n",
       "      <td>0.163420</td>\n",
       "      <td>SPOC_old</td>\n",
       "      <td>3</td>\n",
       "      <td>16817</td>\n",
       "      <td>0.799132</td>\n",
       "      <td>0.926587</td>\n",
       "    </tr>\n",
       "  </tbody>\n",
       "</table>\n",
       "</div>"
      ],
      "text/plain": [
       "   Dataset  Mean Spearman coefficient          Method  cluster #  node #  \\\n",
       "0    DBLP5                   0.131165        SPOC_new          4   42351   \n",
       "1    DBLP1                   0.268031        SPOC_new          6   30566   \n",
       "2    DBLP4                   0.328756        SPOC_new          3   25481   \n",
       "3     MAG2                   0.160465        SPOC_new          3  108064   \n",
       "4     MAG1                   0.036011        SPOC_new          3  142788   \n",
       "5    DBLP3                   0.285753        SPOC_new          3   13315   \n",
       "6    DBLP2                   0.163441        SPOC_new          3   16817   \n",
       "7    DBLP5                   0.131124  SPOC_bootstrap          4   42351   \n",
       "8    DBLP1                   0.268024  SPOC_bootstrap          6   30566   \n",
       "9    DBLP4                   0.328841  SPOC_bootstrap          3   25481   \n",
       "10    MAG2                   0.160461  SPOC_bootstrap          3  108064   \n",
       "11    MAG1                   0.036011  SPOC_bootstrap          3  142788   \n",
       "12   DBLP3                   0.285752  SPOC_bootstrap          3   13315   \n",
       "13   DBLP2                   0.163430  SPOC_bootstrap          3   16817   \n",
       "14   DBLP5                   0.131025        SPOC_old          4   42351   \n",
       "15   DBLP1                   0.267830        SPOC_old          6   30566   \n",
       "16   DBLP4                   0.329037        SPOC_old          3   25481   \n",
       "17    MAG2                   0.160464        SPOC_old          3  108064   \n",
       "18    MAG1                   0.060339        SPOC_old          3  142788   \n",
       "19   DBLP3                   0.285747        SPOC_old          3   13315   \n",
       "20   DBLP2                   0.163420        SPOC_old          3   16817   \n",
       "\n",
       "    relative MSE  time (sec)  \n",
       "0       0.851425    2.441013  \n",
       "1       0.898601    1.842390  \n",
       "2       0.802428    1.627248  \n",
       "3       0.808974    5.960476  \n",
       "4       0.812005    9.247403  \n",
       "5       0.785214    0.986021  \n",
       "6       0.799132    1.039304  \n",
       "7       0.851425    2.936405  \n",
       "8       0.898601    1.916946  \n",
       "9       0.802428    1.458006  \n",
       "10      0.808974    7.041783  \n",
       "11      0.812005    6.756211  \n",
       "12      0.785214    0.697132  \n",
       "13      0.799132    0.828098  \n",
       "14      0.851425    1.973558  \n",
       "15      0.898605    1.468206  \n",
       "16      0.802428    1.253414  \n",
       "17      0.808974    5.854360  \n",
       "18      0.812330    7.335347  \n",
       "19      0.785214    0.685185  \n",
       "20      0.799132    0.926587  "
      ]
     },
     "execution_count": 14,
     "metadata": {},
     "output_type": "execute_result"
    }
   ],
   "source": [
    "pd.DataFrame(results)"
   ]
  },
  {
   "cell_type": "code",
   "execution_count": 4,
   "metadata": {
    "run_control": {
     "frozen": false,
     "read_only": false
    }
   },
   "outputs": [
    {
     "name": "stdout",
     "output_type": "stream",
     "text": [
      "Theta relative error  0.132814685244\n",
      "B relative error  0.285905276884\n"
     ]
    }
   ],
   "source": [
    "#### new_SPOC method without an ellipsoid transformation and without cvxpy opt in get_Theta ####\n",
    "\n",
    "theta, b = SPOC(A, n_clusters, use_ellipsoid=False, use_cvxpy=False)\n",
    "err, _ = find_permutation_Theta(Theta, theta)\n",
    "print \"Theta relative error \", err \n",
    "\n",
    "err, _ = find_permutation_B(B, b)\n",
    "print \"B relative error \", err"
   ]
  },
  {
   "cell_type": "code",
   "execution_count": 5,
   "metadata": {
    "run_control": {
     "frozen": false,
     "read_only": false
    }
   },
   "outputs": [
    {
     "name": "stdout",
     "output_type": "stream",
     "text": [
      "Theta relative error  0.132814685244\n",
      "B relative error  0.285905276884\n"
     ]
    }
   ],
   "source": [
    "U, L = get_U_L(A, n_clusters)\n",
    "\n",
    "theta, b, J = SPOC_from_UL(U, L, use_ellipsoid=True, use_cvxpy=False, return_pure_nodes_indices=True)\n",
    "err, _ = find_permutation_Theta(Theta, theta)\n",
    "print \"Theta relative error \", err \n",
    "\n",
    "err, _ = find_permutation_B(B, b)\n",
    "print \"B relative error \", err"
   ]
  },
  {
   "cell_type": "code",
   "execution_count": 6,
   "metadata": {
    "run_control": {
     "frozen": false,
     "read_only": false
    }
   },
   "outputs": [
    {
     "name": "stdout",
     "output_type": "stream",
     "text": [
      "Theta relative error  0.0876496709351\n",
      "B relative error  0.060565762923\n"
     ]
    }
   ],
   "source": [
    "U, L = get_U_L(A, n_clusters)\n",
    "\n",
    "theta, b = SPOC_bootstrap(A, n_clusters=3, n_repetitions=150, std_num=3)\n",
    "err, _ = find_permutation_Theta(Theta, theta)\n",
    "print \"Theta relative error \", err \n",
    "\n",
    "err, _ = find_permutation_B(B, b)\n",
    "print \"B relative error \", err"
   ]
  },
  {
   "cell_type": "code",
   "execution_count": null,
   "metadata": {
    "collapsed": true,
    "run_control": {
     "frozen": false,
     "read_only": false
    }
   },
   "outputs": [],
   "source": []
  },
  {
   "cell_type": "code",
   "execution_count": null,
   "metadata": {
    "collapsed": true,
    "run_control": {
     "frozen": false,
     "read_only": false
    }
   },
   "outputs": [],
   "source": []
  },
  {
   "cell_type": "code",
   "execution_count": 55,
   "metadata": {
    "collapsed": true,
    "run_control": {
     "frozen": false,
     "read_only": false
    }
   },
   "outputs": [],
   "source": [
    "n_nodes = 500\n",
    "n_clusters = 2\n",
    "pure_nodes = 2\n",
    "indices = np.arange(pure_nodes)\n",
    "B = np.diag([0.3, 0.6])\n",
    "seed=42\n",
    "\n",
    "Theta = generate_theta(n_nodes=n_nodes, n_clusters=n_clusters, pure_nodes_number=pure_nodes,\\\n",
    "                       pure_nodes_indices=indices, seed=seed)\n",
    "P = Theta.dot(B).dot(Theta.T)\n",
    "A = P_to_A(P, reflect=True, seed=0)"
   ]
  },
  {
   "cell_type": "code",
   "execution_count": 56,
   "metadata": {
    "run_control": {
     "frozen": false,
     "read_only": false
    }
   },
   "outputs": [
    {
     "data": {
      "text/html": [
       "<div>\n",
       "<style>\n",
       "    .dataframe thead tr:only-child th {\n",
       "        text-align: right;\n",
       "    }\n",
       "\n",
       "    .dataframe thead th {\n",
       "        text-align: left;\n",
       "    }\n",
       "\n",
       "    .dataframe tbody tr th {\n",
       "        vertical-align: top;\n",
       "    }\n",
       "</style>\n",
       "<table border=\"1\" class=\"dataframe\">\n",
       "  <thead>\n",
       "    <tr style=\"text-align: right;\">\n",
       "      <th></th>\n",
       "      <th>cluster1</th>\n",
       "      <th>cluster2</th>\n",
       "      <th>pure_node</th>\n",
       "      <th>U_0</th>\n",
       "      <th>U_1</th>\n",
       "      <th>SPOC pnn</th>\n",
       "      <th>bootstrap SPOC</th>\n",
       "    </tr>\n",
       "  </thead>\n",
       "  <tbody>\n",
       "    <tr>\n",
       "      <th>0</th>\n",
       "      <td>1.0</td>\n",
       "      <td>0.0</td>\n",
       "      <td>1</td>\n",
       "      <td>0.019804</td>\n",
       "      <td>0.059591</td>\n",
       "      <td>0</td>\n",
       "      <td>0</td>\n",
       "    </tr>\n",
       "    <tr>\n",
       "      <th>1</th>\n",
       "      <td>0.0</td>\n",
       "      <td>1.0</td>\n",
       "      <td>1</td>\n",
       "      <td>0.067997</td>\n",
       "      <td>-0.038304</td>\n",
       "      <td>0</td>\n",
       "      <td>0</td>\n",
       "    </tr>\n",
       "  </tbody>\n",
       "</table>\n",
       "</div>"
      ],
      "text/plain": [
       "   cluster1  cluster2  pure_node       U_0       U_1  SPOC pnn  bootstrap SPOC\n",
       "0       1.0       0.0          1  0.019804  0.059591         0               0\n",
       "1       0.0       1.0          1  0.067997 -0.038304         0               0"
      ]
     },
     "execution_count": 56,
     "metadata": {},
     "output_type": "execute_result"
    }
   ],
   "source": [
    "Theta = pd.DataFrame(Theta, columns=[\"cluster1\", \"cluster2\"])\n",
    "\n",
    "Theta[\"pure_node\"] = Theta.cluster1.apply(lambda x: 1 if ((x == 1) or (x == 0)) else 0)\n",
    "U, L =  get_U_L(A, k=2)\n",
    "\n",
    "Theta[\"U_0\"] = U[:,0]\n",
    "Theta[\"U_1\"] = U[:,1]\n",
    "\n",
    "theta, b, J = SPOC_from_UL(U, L, use_ellipsoid=False, use_cvxpy=False, return_pure_nodes_indices=True)\n",
    "Theta[\"SPOC pnn\"] = 0\n",
    "Theta.loc[J, \"SPOC pnn\"] = 1\n",
    "\n",
    "theta, b, repeats = SPOC_bootstrap(A, 2, n_repetitions=500, regularization=0, return_bootstrap_matrix=True)\n",
    "Theta[\"bootstrap SPOC\"] = 0\n",
    "Theta.loc[J, \"bootstrap SPOC\"] = 1\n",
    "\n",
    "usual_nodes = Theta[Theta[\"pure_node\"] == 0]\n",
    "SPOC_pn = Theta[Theta[\"SPOC pnn\"] == 1]\n",
    "pn = Theta[Theta[\"pure_node\"] == 1]\n",
    "bootstrap_SPOC = Theta[Theta[\"bootstrap SPOC\"] == 1]\n",
    "\n",
    "Theta.head(2)"
   ]
  },
  {
   "cell_type": "code",
   "execution_count": 26,
   "metadata": {
    "run_control": {
     "frozen": false,
     "read_only": false
    }
   },
   "outputs": [
    {
     "data": {
      "image/png": "[encoded data removed]",
      "text/plain": [
       "<matplotlib.figure.Figure at 0x10f74ce50>"
      ]
     },
     "metadata": {},
     "output_type": "display_data"
    }
   ],
   "source": [
    "plt.figure(figsize=(12, 8))\n",
    "plt.scatter(Theta.U_0, Theta.U_1, label=\"all nodes\")\n",
    "# plt.scatter(usual_nodes.U_0, usual_nodes.U_1, label=\"usual_nodes\", linewidths=0.1)\n",
    "plt.scatter(pn.U_0, pn.U_1, label=\"pure_nodes\", linewidths=5, marker=\"*\")\n",
    "# plt.scatter(SPOC_pn.U_0, SPOC_pn.U_1, label=\"SPOC pnn\", linewidths=5)\n",
    "# plt.scatter(bootstrap_SPOC.U_0, bootstrap_SPOC.U_1, label=\"bootstrap pnn\", marker='*', linewidths=0.6)\n",
    "plt.legend(loc=\"upper left\")\n",
    "plt.grid(0.2)\n",
    "plt.savefig(\"plot_simplex_eigenvalue_decomposition.png\")"
   ]
  },
  {
   "cell_type": "code",
   "execution_count": 57,
   "metadata": {
    "collapsed": true,
    "run_control": {
     "frozen": false,
     "read_only": false
    }
   },
   "outputs": [],
   "source": [
    "direct_std = []\n",
    "for i in range(500):\n",
    "    tmp_A = P_to_A(P, reflect=True, seed=i)\n",
    "    tmp_U, L =  get_U_L(tmp_A, k=2)\n",
    "    direct_std.append(tmp_U)\n",
    "direct_std = np.array(direct_std)"
   ]
  },
  {
   "cell_type": "code",
   "execution_count": 2,
   "metadata": {
    "collapsed": true,
    "run_control": {
     "frozen": false,
     "read_only": false
    }
   },
   "outputs": [],
   "source": [
    "import matplotlib.pyplot as plt\n",
    "from matplotlib.patches import Ellipse\n",
    "\n",
    "def plot_point_cov(points, nstd=2, ax=None, **kwargs):\n",
    "    \"\"\"\n",
    "    Plots an `nstd` sigma ellipse based on the mean and covariance of a point\n",
    "    \"cloud\" (points, an Nx2 array).\n",
    "\n",
    "    Parameters\n",
    "    ----------\n",
    "        points : An Nx2 array of the data points.\n",
    "        nstd : The radius of the ellipse in numbers of standard deviations.\n",
    "            Defaults to 2 standard deviations.\n",
    "        ax : The axis that the ellipse will be plotted on. Defaults to the \n",
    "            current axis.\n",
    "        Additional keyword arguments are pass on to the ellipse patch.\n",
    "\n",
    "    Returns\n",
    "    -------\n",
    "        A matplotlib ellipse artist\n",
    "    \"\"\"\n",
    "    pos = points.mean(axis=0)\n",
    "    cov = np.cov(points, rowvar=False)\n",
    "    return plot_cov_ellipse(cov, pos, nstd, ax, **kwargs)\n",
    "\n",
    "def plot_cov_ellipse(cov, pos, nstd=2, ax=None, **kwargs):\n",
    "    \"\"\"\n",
    "    Plots an `nstd` sigma error ellipse based on the specified covariance\n",
    "    matrix (`cov`). Additional keyword arguments are passed on to the \n",
    "    ellipse patch artist.\n",
    "\n",
    "    Parameters\n",
    "    ----------\n",
    "        cov : The 2x2 covariance matrix to base the ellipse on\n",
    "        pos : The location of the center of the ellipse. Expects a 2-element\n",
    "            sequence of [x0, y0].\n",
    "        nstd : The radius of the ellipse in numbers of standard deviations.\n",
    "            Defaults to 2 standard deviations.\n",
    "        ax : The axis that the ellipse will be plotted on. Defaults to the \n",
    "            current axis.\n",
    "        Additional keyword arguments are pass on to the ellipse patch.\n",
    "\n",
    "    Returns\n",
    "    -------\n",
    "        A matplotlib ellipse artist\n",
    "    \"\"\"\n",
    "    def eigsorted(cov):\n",
    "        vals, vecs = np.linalg.eigh(cov)\n",
    "        order = vals.argsort()[::-1]\n",
    "        return vals[order], vecs[:,order]\n",
    "\n",
    "    if ax is None:\n",
    "        ax = plt.gca()\n",
    "\n",
    "    vals, vecs = eigsorted(cov)\n",
    "    theta = np.degrees(np.arctan2(*vecs[:,0][::-1]))\n",
    "\n",
    "    # Width and height are \"full\" widths, not radius\n",
    "    width, height = 2 * nstd * np.sqrt(vals)\n",
    "    ellip = Ellipse(xy=pos, width=width, height=height, angle=theta, **kwargs)\n",
    "\n",
    "    ax.add_artist(ellip)\n",
    "    return ellip"
   ]
  },
  {
   "cell_type": "code",
   "execution_count": 58,
   "metadata": {
    "run_control": {
     "frozen": false,
     "read_only": false
    }
   },
   "outputs": [
    {
     "data": {
      "image/png": "[encoded data removed]",
      "text/plain": [
       "<matplotlib.figure.Figure at 0x10d2f4950>"
      ]
     },
     "metadata": {},
     "output_type": "display_data"
    }
   ],
   "source": [
    "plt.figure(figsize=(12, 8))\n",
    "# plt.scatter(direct_std[:, pn.index, 0], direct_std[:, pn.index, 1], c=\"yellow\", label = \"direct bootstrap\",\\\n",
    "#            alpha=0.4, linewidths=0.1)\n",
    "# plt.scatter(pn.U_0, pn.U_1, label=\"pure_nodes\", linewidths=5, c=\"r\", marker=\"*\")\n",
    "# plt.scatter(repeats[:, pn.index, 0], repeats[:, pn.index, 1], c=\"b\", label = \"bootstrap\", alpha=0.4)\n",
    "\n",
    "for i in indices:\n",
    "    plot_point_cov(direct_std[:,i], nstd=3, alpha=0.2, color=\"g\")\n",
    "    plot_point_cov(repeats[:,i], nstd=3, alpha=0.2, color=\"r\")\n",
    "plt.legend(loc=\"upper left\")\n",
    "plt.grid(0.2)"
   ]
  },
  {
   "cell_type": "code",
   "execution_count": 13,
   "metadata": {
    "collapsed": true,
    "run_control": {
     "frozen": false,
     "read_only": false
    }
   },
   "outputs": [],
   "source": [
    "C = calculate_C(A, n_clusters=2)\n",
    "U_mean, std, repeats = calculate_mean_cov_U(A, C, n_repetitions=100, return_bootstrap_matrix=True)"
   ]
  },
  {
   "cell_type": "code",
   "execution_count": 14,
   "metadata": {
    "run_control": {
     "frozen": false,
     "read_only": false
    }
   },
   "outputs": [
    {
     "data": {
      "text/plain": [
       "Int64Index([19, 86], dtype='int64')"
      ]
     },
     "execution_count": 14,
     "metadata": {},
     "output_type": "execute_result"
    }
   ],
   "source": [
    "SPOC_pn.index"
   ]
  },
  {
   "cell_type": "code",
   "execution_count": 15,
   "metadata": {
    "run_control": {
     "frozen": false,
     "read_only": false
    }
   },
   "outputs": [
    {
     "data": {
      "text/plain": [
       "array([ 19,  86, 312])"
      ]
     },
     "execution_count": 15,
     "metadata": {},
     "output_type": "execute_result"
    }
   ],
   "source": [
    "np.argsort(-np.linalg.norm(U, axis=1))[:3]"
   ]
  },
  {
   "cell_type": "code",
   "execution_count": 16,
   "metadata": {
    "collapsed": true,
    "run_control": {
     "frozen": false,
     "read_only": false
    }
   },
   "outputs": [],
   "source": [
    "max_index = np.argsort(-np.linalg.norm(U, axis=1))[0]\n",
    "v = U[max_index]\n",
    "cov = np.cov(repeats[:, max_index].T)"
   ]
  },
  {
   "cell_type": "code",
   "execution_count": 17,
   "metadata": {
    "collapsed": true,
    "run_control": {
     "frozen": false,
     "read_only": false
    }
   },
   "outputs": [],
   "source": [
    "diffs = [v - u for u in U]\n",
    "# dists = np.linalg.norm(diffs, axis=1)\n",
    "# stds = np.sqrt([dif.dot(cov).dot(dif.T) / (np.linalg.norm(dif) **2) for dif in diffs])\n",
    "indices = [index for (index, dif) in enumerate(diffs)\\\n",
    "           if dif.dot(np.linalg.inv(cov)).dot(dif.T) < 9]"
   ]
  },
  {
   "cell_type": "code",
   "execution_count": 18,
   "metadata": {
    "run_control": {
     "frozen": false,
     "read_only": false
    }
   },
   "outputs": [
    {
     "data": {
      "image/png": "[encoded data removed]",
      "text/plain": [
       "<matplotlib.figure.Figure at 0x106e1a050>"
      ]
     },
     "metadata": {},
     "output_type": "display_data"
    }
   ],
   "source": [
    "plt.figure(figsize=(12, 8))\n",
    "plt.scatter(Theta.U_0, Theta.U_1, label=\"all nodes\", linewidths=0.1, c=\"g\", alpha=0.3)\n",
    "plt.scatter(U[max_index, 0], U[max_index, 1], label=\"max_norm\", marker='*', c=\"r\", linewidths=3)\n",
    "plt.scatter(U[indices, 0], U[indices, 1], label=\"nearest\", marker='*', c=\"b\", linewidths=1)\n",
    "# plt.scatter(repeats[:, max_index, 0], repeats[:, max_index, 1], label=\"bootstrap of selected nodes\", linewidths=0.1, alpha=0.3)\n",
    "plot_point_cov(repeats[:,max_index], nstd=3, alpha=0.5, color=\"g\")\n",
    "\n",
    "plt.legend(loc=\"upper right\")\n",
    "plt.grid(0.2)\n",
    "plt.savefig(\"pnn_selection.png\")"
   ]
  },
  {
   "cell_type": "code",
   "execution_count": 20,
   "metadata": {
    "run_control": {
     "frozen": false,
     "read_only": false
    }
   },
   "outputs": [
    {
     "name": "stderr",
     "output_type": "stream",
     "text": [
      "Widget Javascript not detected.  It may not be installed or enabled properly.\n"
     ]
    },
    {
     "data": {},
     "metadata": {},
     "output_type": "display_data"
    },
    {
     "name": "stdout",
     "output_type": "stream",
     "text": [
      "\n"
     ]
    },
    {
     "ename": "KeyboardInterrupt",
     "evalue": "",
     "output_type": "error",
     "traceback": [
      "\u001b[0;31m---------------------------------------------------------------------------\u001b[0m",
      "\u001b[0;31mKeyboardInterrupt\u001b[0m                         Traceback (most recent call last)",
      "\u001b[0;32m<ipython-input-20-ffd794375a87>\u001b[0m in \u001b[0;36m<module>\u001b[0;34m()\u001b[0m\n\u001b[1;32m     28\u001b[0m         \u001b[0;32mfor\u001b[0m \u001b[0mi\u001b[0m \u001b[0;32min\u001b[0m \u001b[0mrange\u001b[0m\u001b[0;34m(\u001b[0m\u001b[0;36m300\u001b[0m\u001b[0;34m)\u001b[0m\u001b[0;34m:\u001b[0m\u001b[0;34m\u001b[0m\u001b[0m\n\u001b[1;32m     29\u001b[0m             \u001b[0mtmp_A\u001b[0m \u001b[0;34m=\u001b[0m \u001b[0mP_to_A\u001b[0m\u001b[0;34m(\u001b[0m\u001b[0mP\u001b[0m\u001b[0;34m,\u001b[0m \u001b[0mreflect\u001b[0m\u001b[0;34m=\u001b[0m\u001b[0mTrue\u001b[0m\u001b[0;34m,\u001b[0m \u001b[0mseed\u001b[0m\u001b[0;34m=\u001b[0m\u001b[0mi\u001b[0m\u001b[0;34m)\u001b[0m\u001b[0;34m\u001b[0m\u001b[0m\n\u001b[0;32m---> 30\u001b[0;31m             \u001b[0mtmp_U\u001b[0m\u001b[0;34m,\u001b[0m \u001b[0mL\u001b[0m \u001b[0;34m=\u001b[0m  \u001b[0mget_U_L\u001b[0m\u001b[0;34m(\u001b[0m\u001b[0mtmp_A\u001b[0m\u001b[0;34m,\u001b[0m \u001b[0mk\u001b[0m\u001b[0;34m=\u001b[0m\u001b[0mn_clusters\u001b[0m\u001b[0;34m)\u001b[0m\u001b[0;34m\u001b[0m\u001b[0m\n\u001b[0m\u001b[1;32m     31\u001b[0m             \u001b[0mdirect_std\u001b[0m\u001b[0;34m.\u001b[0m\u001b[0mappend\u001b[0m\u001b[0;34m(\u001b[0m\u001b[0mtmp_U\u001b[0m\u001b[0;34m)\u001b[0m\u001b[0;34m\u001b[0m\u001b[0m\n\u001b[1;32m     32\u001b[0m         \u001b[0mdirect_std\u001b[0m \u001b[0;34m=\u001b[0m \u001b[0mnp\u001b[0m\u001b[0;34m.\u001b[0m\u001b[0marray\u001b[0m\u001b[0;34m(\u001b[0m\u001b[0mdirect_std\u001b[0m\u001b[0;34m)\u001b[0m\u001b[0;34m\u001b[0m\u001b[0m\n",
      "\u001b[0;32m/Users/Roman/Desktop/SPOC/new_SPOC.pyc\u001b[0m in \u001b[0;36mget_U_L\u001b[0;34m(matrix, k)\u001b[0m\n\u001b[1;32m     20\u001b[0m     '''\n\u001b[1;32m     21\u001b[0m \u001b[0;34m\u001b[0m\u001b[0m\n\u001b[0;32m---> 22\u001b[0;31m     \u001b[0mLambda\u001b[0m\u001b[0;34m,\u001b[0m \u001b[0mU\u001b[0m \u001b[0;34m=\u001b[0m \u001b[0meigs\u001b[0m\u001b[0;34m(\u001b[0m\u001b[0mmatrix\u001b[0m\u001b[0;34m,\u001b[0m \u001b[0mk\u001b[0m\u001b[0;34m=\u001b[0m\u001b[0mk\u001b[0m\u001b[0;34m,\u001b[0m \u001b[0mwhich\u001b[0m\u001b[0;34m=\u001b[0m\u001b[0;34m'LR'\u001b[0m\u001b[0;34m)\u001b[0m\u001b[0;34m\u001b[0m\u001b[0m\n\u001b[0m\u001b[1;32m     23\u001b[0m     \u001b[0mLambda\u001b[0m\u001b[0;34m,\u001b[0m \u001b[0mU\u001b[0m \u001b[0;34m=\u001b[0m \u001b[0mnp\u001b[0m\u001b[0;34m.\u001b[0m\u001b[0mreal\u001b[0m\u001b[0;34m(\u001b[0m\u001b[0mLambda\u001b[0m\u001b[0;34m)\u001b[0m\u001b[0;34m,\u001b[0m \u001b[0mnp\u001b[0m\u001b[0;34m.\u001b[0m\u001b[0mreal\u001b[0m\u001b[0;34m(\u001b[0m\u001b[0mU\u001b[0m\u001b[0;34m)\u001b[0m\u001b[0;34m\u001b[0m\u001b[0m\n\u001b[1;32m     24\u001b[0m \u001b[0;34m\u001b[0m\u001b[0m\n",
      "\u001b[0;32m/usr/local/lib/python2.7/site-packages/scipy/sparse/linalg/eigen/arpack/arpack.pyc\u001b[0m in \u001b[0;36meigs\u001b[0;34m(A, k, M, sigma, which, v0, ncv, maxiter, tol, return_eigenvectors, Minv, OPinv, OPpart)\u001b[0m\n\u001b[1;32m   1301\u001b[0m     \u001b[0;32mwith\u001b[0m \u001b[0m_ARPACK_LOCK\u001b[0m\u001b[0;34m:\u001b[0m\u001b[0;34m\u001b[0m\u001b[0m\n\u001b[1;32m   1302\u001b[0m         \u001b[0;32mwhile\u001b[0m \u001b[0;32mnot\u001b[0m \u001b[0mparams\u001b[0m\u001b[0;34m.\u001b[0m\u001b[0mconverged\u001b[0m\u001b[0;34m:\u001b[0m\u001b[0;34m\u001b[0m\u001b[0m\n\u001b[0;32m-> 1303\u001b[0;31m             \u001b[0mparams\u001b[0m\u001b[0;34m.\u001b[0m\u001b[0miterate\u001b[0m\u001b[0;34m(\u001b[0m\u001b[0;34m)\u001b[0m\u001b[0;34m\u001b[0m\u001b[0m\n\u001b[0m\u001b[1;32m   1304\u001b[0m \u001b[0;34m\u001b[0m\u001b[0m\n\u001b[1;32m   1305\u001b[0m         \u001b[0;32mreturn\u001b[0m \u001b[0mparams\u001b[0m\u001b[0;34m.\u001b[0m\u001b[0mextract\u001b[0m\u001b[0;34m(\u001b[0m\u001b[0mreturn_eigenvectors\u001b[0m\u001b[0;34m)\u001b[0m\u001b[0;34m\u001b[0m\u001b[0m\n",
      "\u001b[0;32m/usr/local/lib/python2.7/site-packages/scipy/sparse/linalg/eigen/arpack/arpack.pyc\u001b[0m in \u001b[0;36miterate\u001b[0;34m(self)\u001b[0m\n\u001b[1;32m    739\u001b[0m             \u001b[0;31m# compute y = Op*x\u001b[0m\u001b[0;34m\u001b[0m\u001b[0;34m\u001b[0m\u001b[0m\n\u001b[1;32m    740\u001b[0m             \u001b[0;32mif\u001b[0m \u001b[0mself\u001b[0m\u001b[0;34m.\u001b[0m\u001b[0mmode\u001b[0m \u001b[0;32min\u001b[0m \u001b[0;34m(\u001b[0m\u001b[0;36m1\u001b[0m\u001b[0;34m,\u001b[0m \u001b[0;36m2\u001b[0m\u001b[0;34m)\u001b[0m\u001b[0;34m:\u001b[0m\u001b[0;34m\u001b[0m\u001b[0m\n\u001b[0;32m--> 741\u001b[0;31m                 \u001b[0mself\u001b[0m\u001b[0;34m.\u001b[0m\u001b[0mworkd\u001b[0m\u001b[0;34m[\u001b[0m\u001b[0myslice\u001b[0m\u001b[0;34m]\u001b[0m \u001b[0;34m=\u001b[0m \u001b[0mself\u001b[0m\u001b[0;34m.\u001b[0m\u001b[0mOP\u001b[0m\u001b[0;34m(\u001b[0m\u001b[0mself\u001b[0m\u001b[0;34m.\u001b[0m\u001b[0mworkd\u001b[0m\u001b[0;34m[\u001b[0m\u001b[0mxslice\u001b[0m\u001b[0;34m]\u001b[0m\u001b[0;34m)\u001b[0m\u001b[0;34m\u001b[0m\u001b[0m\n\u001b[0m\u001b[1;32m    742\u001b[0m             \u001b[0;32melse\u001b[0m\u001b[0;34m:\u001b[0m\u001b[0;34m\u001b[0m\u001b[0m\n\u001b[1;32m    743\u001b[0m                 \u001b[0mBxslice\u001b[0m \u001b[0;34m=\u001b[0m \u001b[0mslice\u001b[0m\u001b[0;34m(\u001b[0m\u001b[0mself\u001b[0m\u001b[0;34m.\u001b[0m\u001b[0mipntr\u001b[0m\u001b[0;34m[\u001b[0m\u001b[0;36m2\u001b[0m\u001b[0;34m]\u001b[0m \u001b[0;34m-\u001b[0m \u001b[0;36m1\u001b[0m\u001b[0;34m,\u001b[0m \u001b[0mself\u001b[0m\u001b[0;34m.\u001b[0m\u001b[0mipntr\u001b[0m\u001b[0;34m[\u001b[0m\u001b[0;36m2\u001b[0m\u001b[0;34m]\u001b[0m \u001b[0;34m-\u001b[0m \u001b[0;36m1\u001b[0m \u001b[0;34m+\u001b[0m \u001b[0mself\u001b[0m\u001b[0;34m.\u001b[0m\u001b[0mn\u001b[0m\u001b[0;34m)\u001b[0m\u001b[0;34m\u001b[0m\u001b[0m\n",
      "\u001b[0;32m/usr/local/lib/python2.7/site-packages/scipy/sparse/linalg/interface.pyc\u001b[0m in \u001b[0;36mmatvec\u001b[0;34m(self, x)\u001b[0m\n\u001b[1;32m    219\u001b[0m         \u001b[0my\u001b[0m \u001b[0;34m=\u001b[0m \u001b[0mself\u001b[0m\u001b[0;34m.\u001b[0m\u001b[0m_matvec\u001b[0m\u001b[0;34m(\u001b[0m\u001b[0mx\u001b[0m\u001b[0;34m)\u001b[0m\u001b[0;34m\u001b[0m\u001b[0m\n\u001b[1;32m    220\u001b[0m \u001b[0;34m\u001b[0m\u001b[0m\n\u001b[0;32m--> 221\u001b[0;31m         \u001b[0;32mif\u001b[0m \u001b[0misinstance\u001b[0m\u001b[0;34m(\u001b[0m\u001b[0mx\u001b[0m\u001b[0;34m,\u001b[0m \u001b[0mnp\u001b[0m\u001b[0;34m.\u001b[0m\u001b[0mmatrix\u001b[0m\u001b[0;34m)\u001b[0m\u001b[0;34m:\u001b[0m\u001b[0;34m\u001b[0m\u001b[0m\n\u001b[0m\u001b[1;32m    222\u001b[0m             \u001b[0my\u001b[0m \u001b[0;34m=\u001b[0m \u001b[0mnp\u001b[0m\u001b[0;34m.\u001b[0m\u001b[0masmatrix\u001b[0m\u001b[0;34m(\u001b[0m\u001b[0my\u001b[0m\u001b[0;34m)\u001b[0m\u001b[0;34m\u001b[0m\u001b[0m\n\u001b[1;32m    223\u001b[0m         \u001b[0;32melse\u001b[0m\u001b[0;34m:\u001b[0m\u001b[0;34m\u001b[0m\u001b[0m\n",
      "\u001b[0;31mKeyboardInterrupt\u001b[0m: "
     ]
    }
   ],
   "source": [
    "n_clusters = 2\n",
    "pnn = 5\n",
    "pn_indices = np.arange(pnn)\n",
    "B = np.diag([0.5] * n_clusters)\n",
    "\n",
    "main_error_indices = []\n",
    "main_error_weights = []\n",
    "main_error_formula = []\n",
    "norm_direct_cov = []\n",
    "\n",
    "for n_nodes in range(50, 550, 50):\n",
    "    count_err_indices = []\n",
    "    count_err_weights = []\n",
    "    count_err_formula = []\n",
    "    count_norm_cov = []\n",
    "    \n",
    "    for count in tqdm_notebook(range(70)):\n",
    "        Theta = generate_theta(n_nodes, n_clusters, pure_nodes_number=pnn, pure_nodes_indices = pn_indices, seed=count)\n",
    "        P = Theta.dot(B).dot(Theta.T)\n",
    "        main_A = P_to_A(P, reflect=True, seed=141414)\n",
    "        \n",
    "        direct_std = []\n",
    "        err_indices = []\n",
    "        err_weights = []\n",
    "        err_formula = []\n",
    "        norm_cov = []\n",
    "\n",
    "        for i in range(300):\n",
    "            tmp_A = P_to_A(P, reflect=True, seed=i)\n",
    "            tmp_U, L =  get_U_L(tmp_A, k=n_clusters)\n",
    "            direct_std.append(tmp_U)\n",
    "        direct_std = np.array(direct_std)\n",
    "\n",
    "        C = calculate_C(main_A, n_clusters)\n",
    "        \n",
    "        U_mean, std, bootstrap_matrix_indices = calculate_mean_cov_U(main_A, C, n_repetitions=300, \\\n",
    "                                        return_bootstrap_matrix=True, bootstrap_type = \"random_indices\")\n",
    "        \n",
    "        U_mean, std, bootstrap_matrix_weights = calculate_mean_cov_U(main_A, C, n_repetitions=300, \\\n",
    "                                        return_bootstrap_matrix=True, bootstrap_type = \"random_weights\")\n",
    "\n",
    "        for p_index in pn_indices:\n",
    "            direct_cov = np.cov(direct_std[:, p_index].T)\n",
    "            bootstrap_cov_indices = np.cov(bootstrap_matrix_indices[:, p_index].T)\n",
    "            bootstrap_cov_weights = np.cov(bootstrap_matrix_weights[:, p_index].T)\n",
    "            \n",
    "            bootstrap_cov_formula = np.zeros((n_clusters, n_clusters))\n",
    "            for j in range(n_clusters):\n",
    "                bootstrap_cov_formula += main_A[p_index,j] * np.dot(C[j,:].T, C[j,:])\n",
    "            \n",
    "            err_indices.append(np.linalg.norm(direct_cov - bootstrap_cov_indices, ord=\"fro\") / np.linalg.norm(direct_cov))\n",
    "            err_weights.append(np.linalg.norm(direct_cov - bootstrap_cov_weights, ord=\"fro\") / np.linalg.norm(direct_cov))\n",
    "            err_formula.append(np.linalg.norm(direct_cov - bootstrap_cov_formula, ord=\"fro\") / np.linalg.norm(direct_cov))\n",
    "            norm_cov.append(np.linalg.norm(direct_cov))\n",
    "            \n",
    "        mean_indices = np.mean(err_indices)\n",
    "        mean_weights = np.mean(err_weights)\n",
    "        mean_formula = np.mean(err_formula)\n",
    "        mean_norm = np.mean(norm_cov)\n",
    "        \n",
    "        count_err_indices.append(mean_indices)\n",
    "        count_err_weights.append(mean_weights)\n",
    "        count_err_formula.append(mean_formula)\n",
    "        count_norm_cov.append(mean_norm)\n",
    "        \n",
    "    main_error_indices.append(np.mean(count_err_indices))\n",
    "    main_error_weights.append(np.mean(count_err_weights))\n",
    "    main_error_formula.append(np.mean(count_err_formula))\n",
    "    norm_direct_cov.append(np.mean(count_norm_cov))\n",
    "    \n",
    "    \n",
    "    clear_output()\n",
    "    \n",
    "    print(\"n_nodes = {0}, main_err_indices = {1}\".format(n_nodes, main_error_indices[-1]))\n",
    "    print(\"n_nodes = {0}, main_err_weights = {1}\".format(n_nodes, main_error_weights[-1]))\n",
    "    print(\"n_nodes = {0}, main_err_formula = {1}\".format(n_nodes, main_error_formula[-1]))\n",
    "    \n",
    "    plt.figure(figsize=(12,8))\n",
    "    plt.plot(range(50, n_nodes+50, 50), main_error_indices, label=\"indices bootstrap\")\n",
    "    plt.plot(range(50, n_nodes+50, 50), main_error_weights, label=\"weights bootstrap\")\n",
    "    plt.plot(range(50, n_nodes+50, 50), main_error_formula, label=\"formula\")\n",
    "    \n",
    "#     plt.plot(range(50, n_nodes+50, 50), norm_direct_cov, label=\"fro cov norm\")\n",
    "    \n",
    "    plt.xlabel(\"n_nodes\")\n",
    "    plt.ylabel(\"fro error\")\n",
    "    plt.legend(loc=\"upper right\")\n",
    "    plt.show()\n",
    "    plt.savefig(\"covariance_error.png\")"
   ]
  },
  {
   "cell_type": "code",
   "execution_count": 21,
   "metadata": {
    "collapsed": true,
    "run_control": {
     "frozen": false,
     "read_only": false
    }
   },
   "outputs": [],
   "source": [
    "import networkx as nx"
   ]
  },
  {
   "cell_type": "code",
   "execution_count": 22,
   "metadata": {
    "collapsed": true,
    "run_control": {
     "frozen": false,
     "read_only": false
    }
   },
   "outputs": [],
   "source": [
    "data = nx.read_gml(\"polblogs.gml\", )"
   ]
  },
  {
   "cell_type": "code",
   "execution_count": 23,
   "metadata": {
    "collapsed": true,
    "run_control": {
     "frozen": false,
     "read_only": false
    }
   },
   "outputs": [],
   "source": [
    "A = nx.to_numpy_matrix(data)\n",
    "U, L = get_U_L(A, k=2)"
   ]
  },
  {
   "cell_type": "code",
   "execution_count": 24,
   "metadata": {
    "run_control": {
     "frozen": false,
     "read_only": false
    }
   },
   "outputs": [
    {
     "data": {
      "image/png": "[encoded data removed]",
      "text/plain": [
       "<matplotlib.figure.Figure at 0x10997d6d0>"
      ]
     },
     "metadata": {},
     "output_type": "display_data"
    }
   ],
   "source": [
    "plt.figure(figsize=(12, 8))\n",
    "plt.scatter(U[:,0], U[:,1], label=\"all nodes\")\n",
    "plt.legend(loc=\"upper left\")\n",
    "plt.grid(0.2)\n",
    "plt.title(\"political blogs\")\n",
    "plt.savefig(\"political_blogs.png\")"
   ]
  },
  {
   "cell_type": "code",
   "execution_count": null,
   "metadata": {
    "collapsed": true,
    "run_control": {
     "frozen": false,
     "read_only": false
    }
   },
   "outputs": [],
   "source": []
  },
  {
   "cell_type": "code",
   "execution_count": null,
   "metadata": {
    "collapsed": true,
    "run_control": {
     "frozen": false,
     "read_only": false
    }
   },
   "outputs": [],
   "source": []
  },
  {
   "cell_type": "code",
   "execution_count": 10,
   "metadata": {
    "run_control": {
     "frozen": false,
     "read_only": false
    }
   },
   "outputs": [
    {
     "data": {
      "text/html": [
       "<div>\n",
       "<style>\n",
       "    .dataframe thead tr:only-child th {\n",
       "        text-align: right;\n",
       "    }\n",
       "\n",
       "    .dataframe thead th {\n",
       "        text-align: left;\n",
       "    }\n",
       "\n",
       "    .dataframe tbody tr th {\n",
       "        vertical-align: top;\n",
       "    }\n",
       "</style>\n",
       "<table border=\"1\" class=\"dataframe\">\n",
       "  <thead>\n",
       "    <tr style=\"text-align: right;\">\n",
       "      <th></th>\n",
       "      <th>n_nodes</th>\n",
       "      <th>n_clusters</th>\n",
       "      <th>pure_nodes_number</th>\n",
       "      <th>seed</th>\n",
       "      <th>RES</th>\n",
       "    </tr>\n",
       "  </thead>\n",
       "  <tbody>\n",
       "    <tr>\n",
       "      <th>0</th>\n",
       "      <td>1.0</td>\n",
       "      <td>2.0</td>\n",
       "      <td>3.0</td>\n",
       "      <td>4.0</td>\n",
       "      <td>NaN</td>\n",
       "    </tr>\n",
       "  </tbody>\n",
       "</table>\n",
       "</div>"
      ],
      "text/plain": [
       "   n_nodes  n_clusters  pure_nodes_number  seed  RES\n",
       "0      1.0         2.0                3.0   4.0  NaN"
      ]
     },
     "execution_count": 10,
     "metadata": {},
     "output_type": "execute_result"
    }
   ],
   "source": [
    "EXP_DATA = pd.DataFrame(columns=[\"n_nodes\", \"n_clusters\", \"pure_nodes_number\", \"seed\", \"RES\"])\n",
    "EXP_DATA = EXP_DATA.append({\"n_nodes\":1,\"n_clusters\":2,\"pure_nodes_number\":3,\"seed\":4}, ignore_index=True)\n",
    "EXP_DATA"
   ]
  },
  {
   "cell_type": "code",
   "execution_count": null,
   "metadata": {
    "collapsed": true,
    "run_control": {
     "frozen": false,
     "read_only": false
    }
   },
   "outputs": [],
   "source": [
    "EXP_DATA.groupby()"
   ]
  },
  {
   "cell_type": "code",
   "execution_count": 14,
   "metadata": {
    "run_control": {
     "frozen": false,
     "read_only": false
    }
   },
   "outputs": [
    {
     "data": {
      "text/plain": [
       "<matplotlib.figure.Figure at 0x119caa190>"
      ]
     },
     "metadata": {},
     "output_type": "display_data"
    },
    {
     "data": {
      "image/png": "[encoded data removed]",
      "text/plain": [
       "<matplotlib.figure.Figure at 0x1101542d0>"
      ]
     },
     "metadata": {},
     "output_type": "display_data"
    },
    {
     "data": {
      "text/plain": [
       "<matplotlib.figure.Figure at 0x119299650>"
      ]
     },
     "metadata": {},
     "output_type": "display_data"
    }
   ],
   "source": [
    "n_clusters = 3\n",
    "pure_nodes = 3\n",
    "indices = np.arange(pure_nodes)\n",
    "B = np.diag([0.5]*n_clusters)\n",
    "\n",
    "n_repetitions = 3\n",
    "\n",
    "Theta_err_geo_nmf = []\n",
    "B_err_geo_nmf = []\n",
    "\n",
    "Theta_err_SPA = []\n",
    "B_err_SPA = []\n",
    "pure_node_coordinates_err_SPA = []\n",
    "\n",
    "Theta_err_bootstrap = []\n",
    "B_err_bootstrap = []\n",
    "pure_node_coordinates_err_bootstrap = []\n",
    "\n",
    "EXP_DATA = pd.DataFrame(columns=[\"n_nodes\", \"n_clusters\", \"pure_nodes_number\", \"seed\", \"method\", \"matrix\", \"error\"])\n",
    "\n",
    "for n_nodes in range(100, 500, 100):\n",
    "    repetitions_Theta_err_geo_nmf = []\n",
    "    repetitions_B_err_geo_nmf = []\n",
    "    \n",
    "    repetitions_Theta_err_SPA = []\n",
    "    repetitions_B_err_SPA = []\n",
    "    repetitions_pn_coord_SPA = []\n",
    "    \n",
    "    repetitions_Theta_err_bootstrap = []\n",
    "    repetitions_B_err_bootstrap = []\n",
    "    repetitions_pn_coord_bootstrap = []\n",
    "    \n",
    "    for repeat in tqdm_notebook(range(n_repetitions)):\n",
    "        Theta = generate_theta(n_nodes, n_clusters, pure_nodes, pure_nodes_indices = indices, seed=repeat)\n",
    "        P = Theta.dot(B).dot(Theta.T)\n",
    "        A = P_to_A(P, seed=repeat)\n",
    "        \n",
    "        A_mat = matlab.double(A.tolist())\n",
    "        theta_geo, b_geo = eng.GeoNMF(A_mat, n_clusters, 0.25, 0.95, nargout=2)\n",
    "        theta_geo = np.array(theta_geo)\n",
    "        b_geo = np.array(b_geo)\n",
    "        err, _ = find_permutation_Theta(Theta, theta_geo)\n",
    "        EXP_DATA = EXP_DATA.append({\"n_nodes\":n_nodes, \"n_clusters\":n_clusters, \"pure_nodes_number\":pure_nodes,\\\n",
    "                \"seed\":seed, \"method\":\"Geo_NMF\", \"matrix\":\"Theta\", \"error\":err}, ignore_index=True)\n",
    "        repetitions_Theta_err_geo_nmf.append(err)\n",
    "        err, _ = find_permutation_B(B, b_geo)\n",
    "        repetitions_B_err_geo_nmf.append(err)\n",
    "        EXP_DATA = EXP_DATA.append({\"n_nodes\":n_nodes, \"n_clusters\":n_clusters, \"pure_nodes_number\":pure_nodes,\\\n",
    "                \"seed\":seed, \"method\":\"Geo_NMF\", \"matrix\":\"B\", \"error\":err}, ignore_index=True)\n",
    "        \n",
    "        \n",
    "        theta_spa, b_spa, pn_indices_SPA = SPOC(A, n_clusters, return_pure_nodes_indices=True)\n",
    "        err, _ = find_permutation_Theta(Theta, theta_spa)\n",
    "        repetitions_Theta_err_SPA.append(err)\n",
    "        EXP_DATA = EXP_DATA.append({\"n_nodes\":n_nodes, \"n_clusters\":n_clusters, \"pure_nodes_number\":pure_nodes,\\\n",
    "                \"seed\":seed, \"method\":\"basic_SPA\", \"matrix\":\"Theta\", \"error\":err}, ignore_index=True)\n",
    "        err, _ = find_permutation_B(B, b_spa)\n",
    "        repetitions_B_err_SPA.append(err)\n",
    "        EXP_DATA = EXP_DATA.append({\"n_nodes\":n_nodes, \"n_clusters\":n_clusters, \"pure_nodes_number\":pure_nodes,\\\n",
    "                \"seed\":seed, \"method\":\"basic_SPA\", \"matrix\":\"B\", \"error\":err}, ignore_index=True)\n",
    "        \n",
    "        theta_bootstrap, b_bootstrap = SPOC_bootstrap(A, n_clusters, n_repetitions=200, std_num=3)\n",
    "        err, _ = find_permutation_Theta(Theta, theta_bootstrap)\n",
    "        repetitions_Theta_err_bootstrap.append(err)\n",
    "        EXP_DATA = EXP_DATA.append({\"n_nodes\":n_nodes, \"n_clusters\":n_clusters, \"pure_nodes_number\":pure_nodes,\\\n",
    "                \"seed\":seed, \"method\":\"bootstrap_SPA\", \"matrix\":\"Theta\", \"error\":err}, ignore_index=True)\n",
    "        err, _ = find_permutation_B(B, b_bootstrap)\n",
    "        repetitions_B_err_bootstrap.append(err)\n",
    "        EXP_DATA = EXP_DATA.append({\"n_nodes\":n_nodes, \"n_clusters\":n_clusters, \"pure_nodes_number\":pure_nodes,\\\n",
    "                \"seed\":seed, \"method\":\"bootstrap_SPA\", \"matrix\":\"B\", \"error\":err}, ignore_index=True)\n",
    "\n",
    "    Theta_err_SPA.append(np.mean(repetitions_Theta_err_SPA))\n",
    "    B_err_SPA.append(np.mean(repetitions_B_err_SPA))\n",
    "    \n",
    "    Theta_err_bootstrap.append(np.mean(repetitions_Theta_err_bootstrap))\n",
    "    B_err_bootstrap.append(np.mean(repetitions_B_err_bootstrap))\n",
    "    \n",
    "    Theta_err_geo_nmf.append(np.mean(repetitions_Theta_err_geo_nmf))\n",
    "    B_err_geo_nmf.append(np.mean(repetitions_B_err_geo_nmf))\n",
    "    \n",
    "    clear_output()\n",
    "        \n",
    "    plt.figure(figsize=(20,10))\n",
    "    plt.subplot(121)\n",
    "    plt.plot(range(100, n_nodes+100, 100), Theta_err_SPA, label=\"basic SPA\")\n",
    "    plt.plot(range(100, n_nodes+100, 100), Theta_err_bootstrap, label=\"bootstrap\")\n",
    "    plt.plot(range(100, n_nodes+100, 100), Theta_err_geo_nmf, label=\"geo_nmf\")\n",
    "    plt.xlabel(\"n_nodes\")\n",
    "    plt.ylabel(\"relative Theta fro error\")\n",
    "    plt.legend(loc=\"upper right\")\n",
    "    \n",
    "    plt.subplot(122)\n",
    "    plt.plot(range(100, n_nodes+100, 100), B_err_SPA, label=\"basic SPA\")\n",
    "    plt.plot(range(100, n_nodes+100, 100), B_err_bootstrap, label=\"bootstrap\")\n",
    "    plt.plot(range(100, n_nodes+100, 100), B_err_geo_nmf, label = \"geo_nmf\")\n",
    "    plt.xlabel(\"n_nodes\")\n",
    "    plt.ylabel(\"relative B fro error\")\n",
    "    plt.legend(loc=\"upper right\")\n",
    "    plt.show()\n",
    "    plt.savefig(\"n_nodes.png\")"
   ]
  },
  {
   "cell_type": "code",
   "execution_count": 15,
   "metadata": {
    "run_control": {
     "frozen": false,
     "read_only": false
    }
   },
   "outputs": [
    {
     "data": {
      "text/html": [
       "<div>\n",
       "<style>\n",
       "    .dataframe thead tr:only-child th {\n",
       "        text-align: right;\n",
       "    }\n",
       "\n",
       "    .dataframe thead th {\n",
       "        text-align: left;\n",
       "    }\n",
       "\n",
       "    .dataframe tbody tr th {\n",
       "        vertical-align: top;\n",
       "    }\n",
       "</style>\n",
       "<table border=\"1\" class=\"dataframe\">\n",
       "  <thead>\n",
       "    <tr style=\"text-align: right;\">\n",
       "      <th></th>\n",
       "      <th>n_nodes</th>\n",
       "      <th>n_clusters</th>\n",
       "      <th>pure_nodes_number</th>\n",
       "      <th>seed</th>\n",
       "      <th>method</th>\n",
       "      <th>matrix</th>\n",
       "      <th>error</th>\n",
       "    </tr>\n",
       "  </thead>\n",
       "  <tbody>\n",
       "    <tr>\n",
       "      <th>0</th>\n",
       "      <td>100</td>\n",
       "      <td>3</td>\n",
       "      <td>3</td>\n",
       "      <td>10</td>\n",
       "      <td>Geo_NMF</td>\n",
       "      <td>Theta</td>\n",
       "      <td>0.247903</td>\n",
       "    </tr>\n",
       "    <tr>\n",
       "      <th>1</th>\n",
       "      <td>100</td>\n",
       "      <td>3</td>\n",
       "      <td>3</td>\n",
       "      <td>10</td>\n",
       "      <td>Geo_NMF</td>\n",
       "      <td>B</td>\n",
       "      <td>0.328566</td>\n",
       "    </tr>\n",
       "    <tr>\n",
       "      <th>2</th>\n",
       "      <td>100</td>\n",
       "      <td>3</td>\n",
       "      <td>3</td>\n",
       "      <td>10</td>\n",
       "      <td>basic_SPA</td>\n",
       "      <td>Theta</td>\n",
       "      <td>0.280230</td>\n",
       "    </tr>\n",
       "    <tr>\n",
       "      <th>3</th>\n",
       "      <td>100</td>\n",
       "      <td>3</td>\n",
       "      <td>3</td>\n",
       "      <td>10</td>\n",
       "      <td>basic_SPA</td>\n",
       "      <td>B</td>\n",
       "      <td>1.042615</td>\n",
       "    </tr>\n",
       "    <tr>\n",
       "      <th>4</th>\n",
       "      <td>100</td>\n",
       "      <td>3</td>\n",
       "      <td>3</td>\n",
       "      <td>10</td>\n",
       "      <td>bootstrap_SPA</td>\n",
       "      <td>Theta</td>\n",
       "      <td>0.231298</td>\n",
       "    </tr>\n",
       "  </tbody>\n",
       "</table>\n",
       "</div>"
      ],
      "text/plain": [
       "  n_nodes n_clusters pure_nodes_number seed         method matrix     error\n",
       "0     100          3                 3   10        Geo_NMF  Theta  0.247903\n",
       "1     100          3                 3   10        Geo_NMF      B  0.328566\n",
       "2     100          3                 3   10      basic_SPA  Theta  0.280230\n",
       "3     100          3                 3   10      basic_SPA      B  1.042615\n",
       "4     100          3                 3   10  bootstrap_SPA  Theta  0.231298"
      ]
     },
     "execution_count": 15,
     "metadata": {},
     "output_type": "execute_result"
    }
   ],
   "source": [
    "EXP_DATA.head()"
   ]
  },
  {
   "cell_type": "code",
   "execution_count": 35,
   "metadata": {
    "run_control": {
     "frozen": false,
     "read_only": false
    }
   },
   "outputs": [
    {
     "data": {
      "text/plain": [
       "method         matrix  n_nodes\n",
       "Geo_NMF        B       100        0.391063\n",
       "                       200        0.365160\n",
       "                       300        0.195007\n",
       "                       400        0.127248\n",
       "               Theta   100        0.281804\n",
       "                       200        0.189884\n",
       "                       300        0.162848\n",
       "                       400        0.137521\n",
       "basic_SPA      B       100        0.833544\n",
       "                       200        0.564609\n",
       "                       300        0.488362\n",
       "                       400        0.379708\n",
       "               Theta   100        0.322398\n",
       "                       200        0.233073\n",
       "                       300        0.200366\n",
       "                       400        0.178467\n",
       "bootstrap_SPA  B       100        0.229195\n",
       "                       200        0.134883\n",
       "                       300        0.165901\n",
       "                       400        0.083791\n",
       "               Theta   100        0.281229\n",
       "                       200        0.188230\n",
       "                       300        0.230371\n",
       "                       400        0.134283\n",
       "Name: error, dtype: float64"
      ]
     },
     "execution_count": 35,
     "metadata": {},
     "output_type": "execute_result"
    }
   ],
   "source": [
    "EXP_DATA.groupby([\"method\", \"matrix\", \"n_nodes\"]).error.mean()"
   ]
  },
  {
   "cell_type": "code",
   "execution_count": 4,
   "metadata": {
    "run_control": {
     "frozen": false,
     "read_only": false
    }
   },
   "outputs": [
    {
     "name": "stdout",
     "output_type": "stream",
     "text": [
      "geo nmf error = 0.137060855051\n",
      "basic SPA nmf error = 0.165991685575\n",
      "bootstrap SPA error = 0.139291617648\n"
     ]
    }
   ],
   "source": [
    "n_nodes = 400\n",
    "n_clusters = 3\n",
    "pure_nodes = n_clusters\n",
    "indices = np.arange(pure_nodes)\n",
    "B = np.diag([0.4, 0.7, 0.5])\n",
    "seed = 10\n",
    "\n",
    "\n",
    "Theta = generate_theta(n_nodes, n_clusters, pure_nodes, pure_nodes_indices = indices, seed=n_nodes)\n",
    "P = Theta.dot(B).dot(Theta.T)\n",
    "A = P_to_A(P, seed=0)\n",
    "\n",
    "A_mat = matlab.double(A.tolist())\n",
    "theta_geo, b_geo = eng.GeoNMF(A_mat, n_clusters, 0.25, 0.95, nargout=2)\n",
    "theta_geo = np.array(theta_geo)\n",
    "err, _ = find_permutation_Theta(Theta, theta_geo)\n",
    "print(\"geo nmf error = {}\".format(err))\n",
    "\n",
    "theta_spa, b_spa, pn_indices_SPA = SPOC(A, n_clusters, return_pure_nodes_indices=True)\n",
    "err, _ = find_permutation_Theta(Theta, theta_spa)\n",
    "print(\"basic SPA nmf error = {}\".format(err))\n",
    "\n",
    "theta_bootstrap, b_bootstrap = SPOC_bootstrap(A, n_clusters, n_repetitions=200, std_num=3)\n",
    "err, _ = find_permutation_Theta(Theta, theta_bootstrap)\n",
    "print(\"bootstrap SPA error = {}\".format(err))"
   ]
  },
  {
   "cell_type": "code",
   "execution_count": 5,
   "metadata": {
    "run_control": {
     "frozen": false,
     "read_only": false
    }
   },
   "outputs": [
    {
     "data": {
      "text/plain": [
       "(100, 400, 3)"
      ]
     },
     "execution_count": 5,
     "metadata": {},
     "output_type": "execute_result"
    }
   ],
   "source": [
    "repeats.shape"
   ]
  },
  {
   "cell_type": "code",
   "execution_count": 4,
   "metadata": {
    "run_control": {
     "frozen": false,
     "read_only": false
    }
   },
   "outputs": [
    {
     "data": {
      "text/plain": [
       "[65, 256, 295]"
      ]
     },
     "execution_count": 4,
     "metadata": {},
     "output_type": "execute_result"
    }
   ],
   "source": [
    "J"
   ]
  },
  {
   "cell_type": "code",
   "execution_count": 10,
   "metadata": {
    "run_control": {
     "frozen": false,
     "read_only": false
    }
   },
   "outputs": [
    {
     "data": {
      "text/plain": [
       "(100, 3)"
      ]
     },
     "execution_count": 10,
     "metadata": {},
     "output_type": "execute_result"
    }
   ],
   "source": [
    "repeats[:,i].shape"
   ]
  },
  {
   "cell_type": "code",
   "execution_count": 8,
   "metadata": {
    "run_control": {
     "frozen": false,
     "read_only": false
    }
   },
   "outputs": [
    {
     "ename": "TypeError",
     "evalue": "return arrays must be of ArrayType",
     "output_type": "error",
     "traceback": [
      "\u001b[0;31m---------------------------------------------------------------------------\u001b[0m",
      "\u001b[0;31mTypeError\u001b[0m                                 Traceback (most recent call last)",
      "\u001b[0;32m<ipython-input-8-8e41a8ac36c8>\u001b[0m in \u001b[0;36m<module>\u001b[0;34m()\u001b[0m\n\u001b[1;32m     19\u001b[0m \u001b[0mplt\u001b[0m\u001b[0;34m.\u001b[0m\u001b[0mscatter\u001b[0m\u001b[0;34m(\u001b[0m\u001b[0mU\u001b[0m\u001b[0;34m[\u001b[0m\u001b[0;34m:\u001b[0m\u001b[0;34m,\u001b[0m\u001b[0;36m0\u001b[0m\u001b[0;34m]\u001b[0m\u001b[0;34m,\u001b[0m \u001b[0mU\u001b[0m\u001b[0;34m[\u001b[0m\u001b[0;34m:\u001b[0m\u001b[0;34m,\u001b[0m\u001b[0;36m1\u001b[0m\u001b[0;34m]\u001b[0m\u001b[0;34m)\u001b[0m\u001b[0;34m\u001b[0m\u001b[0m\n\u001b[1;32m     20\u001b[0m \u001b[0;32mfor\u001b[0m \u001b[0mi\u001b[0m \u001b[0;32min\u001b[0m \u001b[0mJ\u001b[0m\u001b[0;34m:\u001b[0m\u001b[0;34m\u001b[0m\u001b[0m\n\u001b[0;32m---> 21\u001b[0;31m     \u001b[0mplot_point_cov\u001b[0m\u001b[0;34m(\u001b[0m\u001b[0mrepeats\u001b[0m\u001b[0;34m[\u001b[0m\u001b[0;34m:\u001b[0m\u001b[0;34m,\u001b[0m\u001b[0mi\u001b[0m\u001b[0;34m]\u001b[0m\u001b[0;34m,\u001b[0m \u001b[0mnstd\u001b[0m\u001b[0;34m=\u001b[0m\u001b[0;36m3\u001b[0m\u001b[0;34m,\u001b[0m \u001b[0malpha\u001b[0m\u001b[0;34m=\u001b[0m\u001b[0;36m0.2\u001b[0m\u001b[0;34m,\u001b[0m \u001b[0mcolor\u001b[0m\u001b[0;34m=\u001b[0m\u001b[0;34m\"r\"\u001b[0m\u001b[0;34m)\u001b[0m\u001b[0;34m\u001b[0m\u001b[0m\n\u001b[0m",
      "\u001b[0;32m<ipython-input-2-0078a06080f5>\u001b[0m in \u001b[0;36mplot_point_cov\u001b[0;34m(points, nstd, ax, **kwargs)\u001b[0m\n\u001b[1;32m     22\u001b[0m     \u001b[0mpos\u001b[0m \u001b[0;34m=\u001b[0m \u001b[0mpoints\u001b[0m\u001b[0;34m.\u001b[0m\u001b[0mmean\u001b[0m\u001b[0;34m(\u001b[0m\u001b[0maxis\u001b[0m\u001b[0;34m=\u001b[0m\u001b[0;36m0\u001b[0m\u001b[0;34m)\u001b[0m\u001b[0;34m\u001b[0m\u001b[0m\n\u001b[1;32m     23\u001b[0m     \u001b[0mcov\u001b[0m \u001b[0;34m=\u001b[0m \u001b[0mnp\u001b[0m\u001b[0;34m.\u001b[0m\u001b[0mcov\u001b[0m\u001b[0;34m(\u001b[0m\u001b[0mpoints\u001b[0m\u001b[0;34m,\u001b[0m \u001b[0mrowvar\u001b[0m\u001b[0;34m=\u001b[0m\u001b[0mFalse\u001b[0m\u001b[0;34m)\u001b[0m\u001b[0;34m\u001b[0m\u001b[0m\n\u001b[0;32m---> 24\u001b[0;31m     \u001b[0;32mreturn\u001b[0m \u001b[0mplot_cov_ellipse\u001b[0m\u001b[0;34m(\u001b[0m\u001b[0mcov\u001b[0m\u001b[0;34m,\u001b[0m \u001b[0mpos\u001b[0m\u001b[0;34m,\u001b[0m \u001b[0mnstd\u001b[0m\u001b[0;34m,\u001b[0m \u001b[0max\u001b[0m\u001b[0;34m,\u001b[0m \u001b[0;34m**\u001b[0m\u001b[0mkwargs\u001b[0m\u001b[0;34m)\u001b[0m\u001b[0;34m\u001b[0m\u001b[0m\n\u001b[0m\u001b[1;32m     25\u001b[0m \u001b[0;34m\u001b[0m\u001b[0m\n\u001b[1;32m     26\u001b[0m \u001b[0;32mdef\u001b[0m \u001b[0mplot_cov_ellipse\u001b[0m\u001b[0;34m(\u001b[0m\u001b[0mcov\u001b[0m\u001b[0;34m,\u001b[0m \u001b[0mpos\u001b[0m\u001b[0;34m,\u001b[0m \u001b[0mnstd\u001b[0m\u001b[0;34m=\u001b[0m\u001b[0;36m2\u001b[0m\u001b[0;34m,\u001b[0m \u001b[0max\u001b[0m\u001b[0;34m=\u001b[0m\u001b[0mNone\u001b[0m\u001b[0;34m,\u001b[0m \u001b[0;34m**\u001b[0m\u001b[0mkwargs\u001b[0m\u001b[0;34m)\u001b[0m\u001b[0;34m:\u001b[0m\u001b[0;34m\u001b[0m\u001b[0m\n",
      "\u001b[0;32m<ipython-input-2-0078a06080f5>\u001b[0m in \u001b[0;36mplot_cov_ellipse\u001b[0;34m(cov, pos, nstd, ax, **kwargs)\u001b[0m\n\u001b[1;32m     54\u001b[0m \u001b[0;34m\u001b[0m\u001b[0m\n\u001b[1;32m     55\u001b[0m     \u001b[0mvals\u001b[0m\u001b[0;34m,\u001b[0m \u001b[0mvecs\u001b[0m \u001b[0;34m=\u001b[0m \u001b[0meigsorted\u001b[0m\u001b[0;34m(\u001b[0m\u001b[0mcov\u001b[0m\u001b[0;34m)\u001b[0m\u001b[0;34m\u001b[0m\u001b[0m\n\u001b[0;32m---> 56\u001b[0;31m     \u001b[0mtheta\u001b[0m \u001b[0;34m=\u001b[0m \u001b[0mnp\u001b[0m\u001b[0;34m.\u001b[0m\u001b[0mdegrees\u001b[0m\u001b[0;34m(\u001b[0m\u001b[0mnp\u001b[0m\u001b[0;34m.\u001b[0m\u001b[0marctan2\u001b[0m\u001b[0;34m(\u001b[0m\u001b[0;34m*\u001b[0m\u001b[0mvecs\u001b[0m\u001b[0;34m[\u001b[0m\u001b[0;34m:\u001b[0m\u001b[0;34m,\u001b[0m\u001b[0;36m0\u001b[0m\u001b[0;34m]\u001b[0m\u001b[0;34m[\u001b[0m\u001b[0;34m:\u001b[0m\u001b[0;34m:\u001b[0m\u001b[0;34m-\u001b[0m\u001b[0;36m1\u001b[0m\u001b[0;34m]\u001b[0m\u001b[0;34m)\u001b[0m\u001b[0;34m)\u001b[0m\u001b[0;34m\u001b[0m\u001b[0m\n\u001b[0m\u001b[1;32m     57\u001b[0m \u001b[0;34m\u001b[0m\u001b[0m\n\u001b[1;32m     58\u001b[0m     \u001b[0;31m# Width and height are \"full\" widths, not radius\u001b[0m\u001b[0;34m\u001b[0m\u001b[0;34m\u001b[0m\u001b[0m\n",
      "\u001b[0;31mTypeError\u001b[0m: return arrays must be of ArrayType"
     ]
    },
    {
     "data": {
      "image/png": "[encoded data removed]",
      "text/plain": [
       "<matplotlib.figure.Figure at 0x1192db850>"
      ]
     },
     "metadata": {},
     "output_type": "display_data"
    }
   ],
   "source": [
    "n_nodes = 400\n",
    "n_clusters = 2\n",
    "pure_nodes = n_clusters\n",
    "indices = np.arange(pure_nodes)\n",
    "B = np.diag([0.5]*n_clusters)\n",
    "seed = 1\n",
    "\n",
    "Theta = generate_theta(n_nodes, n_clusters, pure_nodes, pure_nodes_indices = indices, seed=seed)\n",
    "P = Theta.dot(B).dot(Theta.T)\n",
    "A = P_to_A(P, seed=18)\n",
    "U, L = get_U_L(A, n_clusters)\n",
    "F, B, repeats, J = SPOC_bootstrap(A, n_clusters, n_repetitions=100, return_bootstrap_matrix=True,\\\n",
    "                                 return_pure_nodes_indices=True)\n",
    "\n",
    "# theta_boot, b_boot = SPOC_bootstrap(A, n_clusters, n_repetitions=200)\n",
    "# err_boot, _ = find_permutation_Theta(Theta, theta_boot)\n",
    "# print(\"bootstrap SPA error = {}\".format(err))\n",
    "\n",
    "plt.figure(figsize=(12,8))\n",
    "plt.scatter(U[:,0], U[:,1])\n",
    "for i in J:\n",
    "    plot_point_cov(repeats[:,i], nstd=3, alpha=0.2, color=\"r\")"
   ]
  },
  {
   "cell_type": "code",
   "execution_count": null,
   "metadata": {
    "collapsed": true,
    "run_control": {
     "frozen": false,
     "read_only": false
    }
   },
   "outputs": [],
   "source": []
  },
  {
   "cell_type": "code",
   "execution_count": 15,
   "metadata": {
    "run_control": {
     "frozen": false,
     "read_only": false
    }
   },
   "outputs": [
    {
     "name": "stderr",
     "output_type": "stream",
     "text": [
      "Widget Javascript not detected.  It may not be installed or enabled properly.\n"
     ]
    },
    {
     "data": {},
     "metadata": {},
     "output_type": "display_data"
    },
    {
     "ename": "KeyboardInterrupt",
     "evalue": "",
     "output_type": "error",
     "traceback": [
      "\u001b[0;31m---------------------------------------------------------------------------\u001b[0m",
      "\u001b[0;31mKeyboardInterrupt\u001b[0m                         Traceback (most recent call last)",
      "\u001b[0;32m<ipython-input-15-bfe7109a6e7c>\u001b[0m in \u001b[0;36m<module>\u001b[0;34m()\u001b[0m\n\u001b[1;32m     48\u001b[0m         \u001b[0mrepetitions_B_err_SPA\u001b[0m\u001b[0;34m.\u001b[0m\u001b[0mappend\u001b[0m\u001b[0;34m(\u001b[0m\u001b[0merr\u001b[0m\u001b[0;34m)\u001b[0m\u001b[0;34m\u001b[0m\u001b[0m\n\u001b[1;32m     49\u001b[0m \u001b[0;34m\u001b[0m\u001b[0m\n\u001b[0;32m---> 50\u001b[0;31m         \u001b[0mtheta_bootstrap\u001b[0m\u001b[0;34m,\u001b[0m \u001b[0mb_bootstrap\u001b[0m \u001b[0;34m=\u001b[0m \u001b[0mSPOC_bootstrap\u001b[0m\u001b[0;34m(\u001b[0m\u001b[0mA\u001b[0m\u001b[0;34m,\u001b[0m \u001b[0mn_clusters\u001b[0m\u001b[0;34m,\u001b[0m \u001b[0mn_repetitions\u001b[0m\u001b[0;34m=\u001b[0m\u001b[0;36m200\u001b[0m\u001b[0;34m,\u001b[0m \u001b[0mstd_num\u001b[0m\u001b[0;34m=\u001b[0m\u001b[0;36m3\u001b[0m\u001b[0;34m)\u001b[0m\u001b[0;34m\u001b[0m\u001b[0m\n\u001b[0m\u001b[1;32m     51\u001b[0m         \u001b[0merr\u001b[0m\u001b[0;34m,\u001b[0m \u001b[0m_\u001b[0m \u001b[0;34m=\u001b[0m \u001b[0mfind_permutation_Theta\u001b[0m\u001b[0;34m(\u001b[0m\u001b[0mTheta\u001b[0m\u001b[0;34m,\u001b[0m \u001b[0mtheta_bootstrap\u001b[0m\u001b[0;34m)\u001b[0m\u001b[0;34m\u001b[0m\u001b[0m\n\u001b[1;32m     52\u001b[0m         \u001b[0mrepetitions_Theta_err_bootstrap\u001b[0m\u001b[0;34m.\u001b[0m\u001b[0mappend\u001b[0m\u001b[0;34m(\u001b[0m\u001b[0merr\u001b[0m\u001b[0;34m)\u001b[0m\u001b[0;34m\u001b[0m\u001b[0m\n",
      "\u001b[0;32m/Users/Roman/Desktop/SPOC/new_SPOC.pyc\u001b[0m in \u001b[0;36mSPOC_bootstrap\u001b[0;34m(A, n_clusters, n_repetitions, std_num, **kwargs)\u001b[0m\n\u001b[1;32m    414\u001b[0m     \u001b[0mU\u001b[0m\u001b[0;34m,\u001b[0m \u001b[0mLambda\u001b[0m \u001b[0;34m=\u001b[0m \u001b[0mget_U_L\u001b[0m\u001b[0;34m(\u001b[0m\u001b[0mA\u001b[0m\u001b[0;34m,\u001b[0m \u001b[0mn_clusters\u001b[0m\u001b[0;34m)\u001b[0m\u001b[0;34m\u001b[0m\u001b[0m\n\u001b[1;32m    415\u001b[0m     \u001b[0mC\u001b[0m \u001b[0;34m=\u001b[0m \u001b[0mcalculate_C\u001b[0m\u001b[0;34m(\u001b[0m\u001b[0mA\u001b[0m\u001b[0;34m,\u001b[0m \u001b[0mn_clusters\u001b[0m\u001b[0;34m)\u001b[0m\u001b[0;34m\u001b[0m\u001b[0m\n\u001b[0;32m--> 416\u001b[0;31m     \u001b[0mU_mean\u001b[0m\u001b[0;34m,\u001b[0m \u001b[0mstd\u001b[0m\u001b[0;34m,\u001b[0m \u001b[0mrepeats\u001b[0m \u001b[0;34m=\u001b[0m \u001b[0mcalculate_mean_cov_U\u001b[0m\u001b[0;34m(\u001b[0m\u001b[0mA\u001b[0m\u001b[0;34m,\u001b[0m \u001b[0mC\u001b[0m\u001b[0;34m,\u001b[0m \u001b[0mn_repetitions\u001b[0m\u001b[0;34m,\u001b[0m \u001b[0mreturn_bootstrap_matrix\u001b[0m\u001b[0;34m=\u001b[0m\u001b[0mTrue\u001b[0m\u001b[0;34m,\u001b[0m \u001b[0mbootstrap_type\u001b[0m\u001b[0;34m=\u001b[0m\u001b[0mbootstrap_type\u001b[0m\u001b[0;34m)\u001b[0m\u001b[0;34m\u001b[0m\u001b[0m\n\u001b[0m\u001b[1;32m    417\u001b[0m     \u001b[0mF\u001b[0m\u001b[0;34m,\u001b[0m \u001b[0mB\u001b[0m \u001b[0;34m=\u001b[0m \u001b[0mget_F_B_bootstrap\u001b[0m\u001b[0;34m(\u001b[0m\u001b[0mU\u001b[0m\u001b[0;34m,\u001b[0m \u001b[0mLambda\u001b[0m\u001b[0;34m,\u001b[0m \u001b[0mrepeats\u001b[0m\u001b[0;34m,\u001b[0m \u001b[0mstd_num\u001b[0m\u001b[0;34m=\u001b[0m\u001b[0mstd_num\u001b[0m\u001b[0;34m)\u001b[0m\u001b[0;34m\u001b[0m\u001b[0m\n\u001b[1;32m    418\u001b[0m     \u001b[0mTheta\u001b[0m \u001b[0;34m=\u001b[0m \u001b[0mget_Theta\u001b[0m\u001b[0;34m(\u001b[0m\u001b[0mU\u001b[0m\u001b[0;34m=\u001b[0m\u001b[0mU_mean\u001b[0m\u001b[0;34m,\u001b[0m \u001b[0mF\u001b[0m\u001b[0;34m=\u001b[0m\u001b[0mF\u001b[0m\u001b[0;34m,\u001b[0m \u001b[0mLambda\u001b[0m \u001b[0;34m=\u001b[0m \u001b[0mLambda\u001b[0m\u001b[0;34m,\u001b[0m \u001b[0muse_cvxpy\u001b[0m\u001b[0;34m=\u001b[0m\u001b[0mFalse\u001b[0m\u001b[0;34m)\u001b[0m\u001b[0;34m\u001b[0m\u001b[0m\n",
      "\u001b[0;32m/Users/Roman/Desktop/SPOC/new_SPOC.pyc\u001b[0m in \u001b[0;36mcalculate_mean_cov_U\u001b[0;34m(A, C, n_repetitions, **kwargs)\u001b[0m\n\u001b[1;32m    358\u001b[0m     \u001b[0;32mif\u001b[0m \u001b[0mbootstrap_type\u001b[0m \u001b[0;34m==\u001b[0m \u001b[0;34m\"random_weights\"\u001b[0m\u001b[0;34m:\u001b[0m\u001b[0;34m\u001b[0m\u001b[0m\n\u001b[1;32m    359\u001b[0m         \u001b[0;32mfor\u001b[0m \u001b[0mi\u001b[0m \u001b[0;32min\u001b[0m \u001b[0mrange\u001b[0m\u001b[0;34m(\u001b[0m\u001b[0mn_repetitions\u001b[0m\u001b[0;34m)\u001b[0m\u001b[0;34m:\u001b[0m\u001b[0;34m\u001b[0m\u001b[0m\n\u001b[0;32m--> 360\u001b[0;31m             \u001b[0mbootstrap_weights\u001b[0m \u001b[0;34m=\u001b[0m \u001b[0mnp\u001b[0m\u001b[0;34m.\u001b[0m\u001b[0mrandom\u001b[0m\u001b[0;34m.\u001b[0m\u001b[0mnormal\u001b[0m\u001b[0;34m(\u001b[0m\u001b[0mloc\u001b[0m\u001b[0;34m=\u001b[0m\u001b[0;36m1\u001b[0m\u001b[0;34m,\u001b[0m \u001b[0mscale\u001b[0m\u001b[0;34m=\u001b[0m\u001b[0;36m1\u001b[0m\u001b[0;34m,\u001b[0m \u001b[0msize\u001b[0m\u001b[0;34m=\u001b[0m\u001b[0;34m(\u001b[0m\u001b[0mn_nodes\u001b[0m\u001b[0;34m,\u001b[0m \u001b[0mn_nodes\u001b[0m\u001b[0;34m)\u001b[0m\u001b[0;34m)\u001b[0m\u001b[0;34m\u001b[0m\u001b[0m\n\u001b[0m\u001b[1;32m    361\u001b[0m             \u001b[0mrepeat_matrix_array\u001b[0m\u001b[0;34m.\u001b[0m\u001b[0mappend\u001b[0m\u001b[0;34m(\u001b[0m \u001b[0mnp\u001b[0m\u001b[0;34m.\u001b[0m\u001b[0mdot\u001b[0m\u001b[0;34m(\u001b[0m\u001b[0mA\u001b[0m \u001b[0;34m*\u001b[0m \u001b[0mbootstrap_weights\u001b[0m\u001b[0;34m,\u001b[0m \u001b[0mC\u001b[0m\u001b[0;34m)\u001b[0m \u001b[0;34m)\u001b[0m\u001b[0;34m\u001b[0m\u001b[0m\n\u001b[1;32m    362\u001b[0m     \u001b[0;32melse\u001b[0m\u001b[0;34m:\u001b[0m\u001b[0;34m\u001b[0m\u001b[0m\n",
      "\u001b[0;31mKeyboardInterrupt\u001b[0m: "
     ]
    }
   ],
   "source": [
    "n_nodes = 500\n",
    "n_repetitions = 7\n",
    "\n",
    "Theta_err_geo_nmf = []\n",
    "B_err_geo_nmf = []\n",
    "\n",
    "Theta_err_SPA = []\n",
    "B_err_SPA = []\n",
    "pure_node_coordinates_err_SPA = []\n",
    "\n",
    "Theta_err_bootstrap = []\n",
    "B_err_bootstrap = []\n",
    "pure_node_coordinates_err_bootstrap = []\n",
    "\n",
    "for n_clusters in range(2, 7, 1):\n",
    "    B = np.diag([0.5]*n_clusters)\n",
    "    indices = np.arange(n_clusters)\n",
    "    \n",
    "    repetitions_Theta_err_geo_nmf = []\n",
    "    repetitions_B_err_geo_nmf = []\n",
    "    \n",
    "    repetitions_Theta_err_SPA = []\n",
    "    repetitions_B_err_SPA = []\n",
    "    repetitions_pn_coord_SPA = []\n",
    "    \n",
    "    repetitions_Theta_err_bootstrap = []\n",
    "    repetitions_B_err_bootstrap = []\n",
    "    repetitions_pn_coord_bootstrap = []\n",
    "    \n",
    "    for repeat in tqdm_notebook(range(n_repetitions)):\n",
    "        Theta = generate_theta(n_nodes=n_nodes, n_clusters=n_clusters, pure_nodes_number=n_clusters, \\\n",
    "                               pure_nodes_indices = indices, seed=repeat)\n",
    "        P = Theta.dot(B).dot(Theta.T)\n",
    "        A = P_to_A(P, seed=repeat)\n",
    "        \n",
    "        A_mat = matlab.double(A.tolist())\n",
    "        theta_geo, b_geo = eng.GeoNMF(A_mat, n_clusters, 0.25, 0.95, nargout=2)\n",
    "        theta_geo = np.array(theta_geo)\n",
    "        b_geo = np.array(b_geo)\n",
    "        err, _ = find_permutation_Theta(Theta, theta_geo)\n",
    "        repetitions_Theta_err_geo_nmf.append(err)\n",
    "        err, _ = find_permutation_B(B, b_geo)\n",
    "        repetitions_B_err_geo_nmf.append(err)\n",
    "        \n",
    "        theta_spa, b_spa, pn_indices_SPA = SPOC(A, n_clusters, return_pure_nodes_indices=True)\n",
    "        err, _ = find_permutation_Theta(Theta, theta_spa)\n",
    "        repetitions_Theta_err_SPA.append(err)\n",
    "        err, _ = find_permutation_B(B, b_spa)\n",
    "        repetitions_B_err_SPA.append(err)\n",
    "        \n",
    "        theta_bootstrap, b_bootstrap = SPOC_bootstrap(A, n_clusters, n_repetitions=200, std_num=3)\n",
    "        err, _ = find_permutation_Theta(Theta, theta_bootstrap)\n",
    "        repetitions_Theta_err_bootstrap.append(err)\n",
    "        err, _ = find_permutation_B(B, b_bootstrap)\n",
    "        repetitions_B_err_bootstrap.append(err)\n",
    "\n",
    "    Theta_err_SPA.append(np.mean(repetitions_Theta_err_SPA))\n",
    "    B_err_SPA.append(np.mean(repetitions_B_err_SPA))\n",
    "    \n",
    "    Theta_err_bootstrap.append(np.mean(repetitions_Theta_err_bootstrap))\n",
    "    B_err_bootstrap.append(np.mean(repetitions_B_err_bootstrap))\n",
    "    \n",
    "    Theta_err_geo_nmf.append(np.mean(repetitions_Theta_err_geo_nmf))\n",
    "    B_err_geo_nmf.append(np.mean(repetitions_B_err_geo_nmf))\n",
    "    \n",
    "    clear_output()\n",
    "        \n",
    "    plt.figure(figsize=(20,10))\n",
    "    plt.subplot(121)\n",
    "    plt.plot(range(2, n_clusters+1), Theta_err_SPA, label=\"basic SPA\")\n",
    "    plt.plot(range(2, n_clusters+1), Theta_err_bootstrap, label=\"bootstrap\")\n",
    "    plt.plot(range(2, n_clusters+1), Theta_err_geo_nmf, label=\"geo_nmf\")\n",
    "    plt.xlabel(\"n_nodes\")\n",
    "    plt.ylabel(\"relative Theta fro error\")\n",
    "    plt.legend(loc=\"upper right\")\n",
    "    \n",
    "    plt.subplot(122)\n",
    "    plt.plot(range(2, n_clusters+1), B_err_SPA, label=\"basic SPA\")\n",
    "    plt.plot(range(2, n_clusters+1), B_err_bootstrap, label=\"bootstrap\")\n",
    "    plt.plot(range(2, n_clusters+1), B_err_geo_nmf, label=\"geo_nmf\")\n",
    "    plt.xlabel(\"n_nodes\")\n",
    "    plt.ylabel(\"relative B fro error\")\n",
    "    plt.legend(loc=\"upper right\")\n",
    "    plt.show()\n",
    "    plt.savefig(\"n_clusters.png\")"
   ]
  },
  {
   "cell_type": "code",
   "execution_count": 7,
   "metadata": {
    "run_control": {
     "frozen": false,
     "read_only": false
    }
   },
   "outputs": [
    {
     "data": {
      "text/plain": [
       "<matplotlib.figure.Figure at 0x11146d090>"
      ]
     },
     "metadata": {},
     "output_type": "display_data"
    },
    {
     "data": {
      "image/png": "[encoded data removed]",
      "text/plain": [
       "<matplotlib.figure.Figure at 0x1113ccd90>"
      ]
     },
     "metadata": {},
     "output_type": "display_data"
    },
    {
     "data": {
      "text/plain": [
       "<matplotlib.figure.Figure at 0x11195a6d0>"
      ]
     },
     "metadata": {},
     "output_type": "display_data"
    }
   ],
   "source": [
    "n_nodes = 500\n",
    "n_clusters = 3\n",
    "n_repetitions = 5\n",
    "indices = np.arange(n_clusters)\n",
    "\n",
    "Theta_err_geo_nmf = []\n",
    "B_err_geo_nmf = []\n",
    "\n",
    "Theta_err_SPA = []\n",
    "B_err_SPA = []\n",
    "pure_node_coordinates_err_SPA = []\n",
    "\n",
    "Theta_err_bootstrap = []\n",
    "B_err_bootstrap = []\n",
    "pure_node_coordinates_err_bootstrap = []\n",
    "\n",
    "for eps in np.arange(0.1, 0.5, 0.1):\n",
    "    B = np.diag([0.5-eps, 0.5, 0.5+eps])\n",
    "    \n",
    "    repetitions_Theta_err_geo_nmf = []\n",
    "    repetitions_B_err_geo_nmf = []\n",
    "    \n",
    "    repetitions_Theta_err_SPA = []\n",
    "    repetitions_B_err_SPA = []\n",
    "    repetitions_pn_coord_SPA = []\n",
    "    \n",
    "    repetitions_Theta_err_bootstrap = []\n",
    "    repetitions_B_err_bootstrap = []\n",
    "    repetitions_pn_coord_bootstrap = []\n",
    "    \n",
    "    for repeat in tqdm_notebook(range(n_repetitions)):\n",
    "        Theta = generate_theta(n_nodes=n_nodes, n_clusters=n_clusters, pure_nodes_number=n_clusters, \\\n",
    "                               pure_nodes_indices = indices, seed=repeat)\n",
    "        P = Theta.dot(B).dot(Theta.T)\n",
    "        A = P_to_A(P, seed=repeat)\n",
    "        \n",
    "        A_mat = matlab.double(A.tolist())\n",
    "        theta_geo, b_geo = eng.GeoNMF(A_mat, n_clusters, 0.25, 0.95, nargout=2)\n",
    "        theta_geo = np.array(theta_geo)\n",
    "        b_geo = np.array(b_geo)\n",
    "        err, _ = find_permutation_Theta(Theta, theta_geo)\n",
    "        repetitions_Theta_err_geo_nmf.append(err)\n",
    "        err, _ = find_permutation_B(B, b_geo)\n",
    "        repetitions_B_err_geo_nmf.append(err)\n",
    "        \n",
    "        theta_spa, b_spa, pn_indices_SPA = SPOC(A, n_clusters, return_pure_nodes_indices=True)\n",
    "        err, _ = find_permutation_Theta(Theta, theta_spa)\n",
    "        repetitions_Theta_err_SPA.append(err)\n",
    "        err, _ = find_permutation_B(B, b_spa)\n",
    "        repetitions_B_err_SPA.append(err)\n",
    "        \n",
    "        theta_bootstrap, b_bootstrap = SPOC_bootstrap(A, n_clusters, n_repetitions=200, std_num=3)\n",
    "        err, _ = find_permutation_Theta(Theta, theta_bootstrap)\n",
    "        repetitions_Theta_err_bootstrap.append(err)\n",
    "        err, _ = find_permutation_B(B, b_bootstrap)\n",
    "        repetitions_B_err_bootstrap.append(err)\n",
    "        \n",
    "    Theta_err_geo_nmf.append(np.mean(repetitions_Theta_err_geo_nmf))\n",
    "    B_err_geo_nmf.append(np.mean(repetitions_B_err_geo_nmf))\n",
    "    \n",
    "    Theta_err_SPA.append(np.mean(repetitions_Theta_err_SPA))\n",
    "    B_err_SPA.append(np.mean(repetitions_B_err_SPA))\n",
    "    \n",
    "    Theta_err_bootstrap.append(np.mean(repetitions_Theta_err_bootstrap))\n",
    "    B_err_bootstrap.append(np.mean(repetitions_B_err_bootstrap))\n",
    "    \n",
    "    clear_output()\n",
    "        \n",
    "    plt.figure(figsize=(16,6))\n",
    "    plt.subplot(121)\n",
    "    plt.plot(np.arange(0.1, eps+0.05, 0.1), Theta_err_SPA, label=\"basic SPA\")\n",
    "    plt.plot(np.arange(0.1, eps+0.05, 0.1), Theta_err_bootstrap, label=\"bootstrap\")\n",
    "    plt.plot(np.arange(0.1, eps+0.05, 0.1), Theta_err_SPA, label=\"geo_nmf\")\n",
    "    plt.xlabel(\"eps\")\n",
    "    plt.ylabel(\"relative Theta fro error\")\n",
    "    plt.legend(loc=\"upper right\")\n",
    "    \n",
    "    plt.subplot(122)\n",
    "    plt.plot(np.arange(0.1, eps+0.05, 0.1), B_err_SPA, label=\"basic SPA\")\n",
    "    plt.plot(np.arange(0.1, eps+0.05, 0.1), B_err_bootstrap, label=\"bootstrap\")\n",
    "    plt.plot(np.arange(0.1, eps+0.05, 0.1), B_err_geo_nmf, label=\"geo_nmf\")\n",
    "    plt.xlabel(\"eps\")\n",
    "    plt.ylabel(\"relative B fro error\")\n",
    "    plt.legend(loc=\"upper right\")\n",
    "    plt.show()\n",
    "    plt.savefig(\"eps.png\")"
   ]
  },
  {
   "cell_type": "code",
   "execution_count": 14,
   "metadata": {
    "run_control": {
     "frozen": false,
     "read_only": false
    }
   },
   "outputs": [
    {
     "data": {
      "text/plain": [
       "[0.089436783003626355, 0.090061635489101899]"
      ]
     },
     "execution_count": 14,
     "metadata": {},
     "output_type": "execute_result"
    }
   ],
   "source": [
    "Theta_err_bootstrap"
   ]
  },
  {
   "cell_type": "code",
   "execution_count": 17,
   "metadata": {
    "run_control": {
     "frozen": false,
     "read_only": false
    }
   },
   "outputs": [
    {
     "data": {
      "text/plain": [
       "array([ 0.05,  0.1 ,  0.15])"
      ]
     },
     "execution_count": 17,
     "metadata": {},
     "output_type": "execute_result"
    }
   ],
   "source": [
    "np.arange(0.05, eps+0.05, 0.05)"
   ]
  },
  {
   "cell_type": "code",
   "execution_count": null,
   "metadata": {
    "collapsed": true,
    "run_control": {
     "frozen": false,
     "read_only": false
    }
   },
   "outputs": [],
   "source": []
  },
  {
   "cell_type": "code",
   "execution_count": null,
   "metadata": {
    "collapsed": true,
    "run_control": {
     "frozen": false,
     "read_only": false
    }
   },
   "outputs": [],
   "source": []
  },
  {
   "cell_type": "code",
   "execution_count": 2,
   "metadata": {
    "collapsed": true,
    "run_control": {
     "frozen": false,
     "read_only": false
    }
   },
   "outputs": [],
   "source": [
    "import matlab.engine"
   ]
  },
  {
   "cell_type": "code",
   "execution_count": 3,
   "metadata": {
    "collapsed": true,
    "run_control": {
     "frozen": false,
     "read_only": false
    }
   },
   "outputs": [],
   "source": [
    "eng = matlab.engine.start_matlab()"
   ]
  },
  {
   "cell_type": "code",
   "execution_count": 33,
   "metadata": {
    "run_control": {
     "frozen": false,
     "read_only": false
    }
   },
   "outputs": [
    {
     "name": "stdout",
     "output_type": "stream",
     "text": [
      "2.5\n"
     ]
    }
   ],
   "source": [
    "ret = eng.triarea(1.0,5.0)\n",
    "print(ret)"
   ]
  },
  {
   "cell_type": "code",
   "execution_count": 7,
   "metadata": {
    "collapsed": true,
    "run_control": {
     "frozen": false,
     "read_only": false
    }
   },
   "outputs": [],
   "source": [
    "A, Theta, B = generate_a(n_nodes=10, n_clusters=2, pure_nodes_number=2, reflect=True)"
   ]
  },
  {
   "cell_type": "code",
   "execution_count": 8,
   "metadata": {
    "run_control": {
     "frozen": false,
     "read_only": false
    }
   },
   "outputs": [
    {
     "data": {
      "text/plain": [
       "array([[ 0.33463068,  0.66536932],\n",
       "       [ 0.        ,  0.        ],\n",
       "       [ 0.        ,  0.        ],\n",
       "       [ 0.04947644,  0.95052356],\n",
       "       [ 0.78789535,  0.21210465],\n",
       "       [ 0.05572836,  0.94427164],\n",
       "       [ 0.17975731,  0.82024269],\n",
       "       [ 0.        ,  1.        ],\n",
       "       [ 0.70914645,  0.29085355],\n",
       "       [ 1.        ,  0.        ]])"
      ]
     },
     "execution_count": 8,
     "metadata": {},
     "output_type": "execute_result"
    }
   ],
   "source": [
    "A = matlab.double(A.tolist())\n",
    "ret = eng.GeoNMF(A, 2, 0.25, 0.95)\n",
    "np.array(ret)"
   ]
  },
  {
   "cell_type": "code",
   "execution_count": 8,
   "metadata": {
    "run_control": {
     "frozen": false,
     "read_only": false
    }
   },
   "outputs": [
    {
     "data": {
      "text/plain": [
       "matlab.double([[0.360340066431,0.639659933569],[0.0,1.0],[1.0,0.0],[0.0,1.0],[0.0,1.0],[1.0,0.0],[0.0868207381946,0.913179261805],[0.0,1.0],[1.0,0.0],[0.0,1.0]])"
      ]
     },
     "execution_count": 8,
     "metadata": {},
     "output_type": "execute_result"
    }
   ],
   "source": [
    "matlab."
   ]
  },
  {
   "cell_type": "code",
   "execution_count": 8,
   "metadata": {
    "run_control": {
     "frozen": false,
     "read_only": false
    }
   },
   "outputs": [
    {
     "data": {
      "text/plain": [
       "matlab.double([[1.0,1.41421356237,1.73205080757]])"
      ]
     },
     "execution_count": 8,
     "metadata": {},
     "output_type": "execute_result"
    }
   ],
   "source": [
    "eng = matlab.engine.start_matlab()\n",
    "A = matlab.double([1.,2.,3.])\n",
    "eng.sqrt(A)"
   ]
  },
  {
   "cell_type": "code",
   "execution_count": null,
   "metadata": {
    "collapsed": true,
    "run_control": {
     "frozen": false,
     "read_only": false
    }
   },
   "outputs": [],
   "source": []
  }
 ],
 "metadata": {
  "kernelspec": {
   "display_name": "Python 3",
   "language": "python",
   "name": "python3"
  }
 },
 "nbformat": 4,
 "nbformat_minor": 1
}
