{
 "cells": [
  {
   "cell_type": "code",
   "execution_count": 1,
   "metadata": {
    "collapsed": true,
    "run_control": {
     "frozen": false,
     "read_only": false
    }
   },
   "outputs": [],
   "source": [
    "import numpy as np\n",
    "import pandas as pd\n",
    "import scipy as sp\n",
    "import scipy.sparse.linalg\n",
    "from itertools import permutations\n",
    "import matplotlib.pyplot as plt\n",
    "import seaborn as sns\n",
    "from cvxpy import *\n",
    "%matplotlib inline\n",
    "from generate_SPOC_model import *\n",
    "import new_SPOC\n",
    "import SPOC as old_SPOC\n",
    "from tqdm import tqdm_notebook\n",
    "\n",
    "from multiprocessing.dummy import Pool as ThreadPool\n",
    "from functools import partial\n",
    "\n",
    "eigs = sp.sparse.linalg.eigs"
   ]
  },
  {
   "cell_type": "code",
   "execution_count": 2,
   "metadata": {
    "collapsed": true,
    "run_control": {
     "frozen": false,
     "read_only": false
    }
   },
   "outputs": [],
   "source": [
    "n_nodes = 2000\n",
    "n_clusters = 5\n",
    "pure_nodes_number = 3\n",
    "\n",
    "A, Theta, B = generate_a(n_nodes=n_nodes, n_clusters=n_clusters, pure_nodes_number=pure_nodes_number, seed=0)"
   ]
  },
  {
   "cell_type": "code",
   "execution_count": 3,
   "metadata": {
    "run_control": {
     "frozen": false,
     "read_only": false
    }
   },
   "outputs": [
    {
     "name": "stdout",
     "output_type": "stream",
     "text": [
      "('Theta error = ', 0.17935657405579306)\n",
      "('B error = ', 0.2530463319097041)\n"
     ]
    }
   ],
   "source": [
    "'''\n",
    "OLD SPOC\n",
    "'''\n",
    "U, L = old_SPOC.get_U_L(A, k=n_clusters)\n",
    "old_F, old_exp_B = old_SPOC.get_F_B(U, L, r=n_clusters)\n",
    "old_exp_Theta = old_SPOC.get_Theta(U, L, old_F)\n",
    "\n",
    "error_Theta, _ = find_permutation_Theta(Theta, old_exp_Theta)\n",
    "error_B, _ = find_permutation_B(B, old_exp_B)\n",
    "\n",
    "print(\"Theta error = \", error_Theta)\n",
    "print(\"B error = \", error_B)"
   ]
  },
  {
   "cell_type": "code",
   "execution_count": 4,
   "metadata": {
    "run_control": {
     "frozen": false,
     "read_only": false
    }
   },
   "outputs": [
    {
     "name": "stdout",
     "output_type": "stream",
     "text": [
      "('Theta error = ', 0.15952537916590517)\n",
      "('B error = ', 0.63604247974485562)\n"
     ]
    }
   ],
   "source": [
    "'''\n",
    "NEW SPOC\n",
    "'''\n",
    "U, L = new_SPOC.new_get_U_L(A, k=n_clusters)\n",
    "F, new_exp_B = new_SPOC.new_get_F_B(U, L)\n",
    "new_exp_Theta = new_SPOC.new_get_Theta(U, F)\n",
    "\n",
    "error_Theta, _ = find_permutation_Theta(Theta, new_exp_Theta)\n",
    "error_B, _ = find_permutation_B(B, new_exp_B)\n",
    "\n",
    "print(\"Theta error = \", error_Theta)\n",
    "print(\"B error = \", error_B)"
   ]
  },
  {
   "cell_type": "code",
   "execution_count": null,
   "metadata": {
    "collapsed": true,
    "run_control": {
     "frozen": false,
     "read_only": false
    }
   },
   "outputs": [],
   "source": []
  }
 ],
 "metadata": {
  "kernelspec": {
   "display_name": "Python 2",
   "language": "python",
   "name": "python2"
  },
  "language_info": {
   "codemirror_mode": {
    "name": "ipython",
    "version": 2
   },
   "file_extension": ".py",
   "mimetype": "text/x-python",
   "name": "python",
   "nbconvert_exporter": "python",
   "pygments_lexer": "ipython2",
   "version": "2.7.13"
  }
 },
 "nbformat": 4,
 "nbformat_minor": 2
}
