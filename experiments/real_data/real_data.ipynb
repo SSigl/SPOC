{
 "cells": [
  {
   "cell_type": "code",
   "execution_count": null,
   "metadata": {
    "collapsed": false,
    "run_control": {
     "frozen": false,
     "read_only": false
    }
   },
   "outputs": [],
   "source": [
    "from collections import defaultdict\n",
    "import glob\n",
    "from time import time\n",
    "\n",
    "import numpy as np\n",
    "import pandas as pd\n",
    "import networkx as nx\n",
    "\n",
    "import sys\n",
    "sys.path.append('../../algorithms')\n",
    "from SPOC import SPOC\n",
    "from generate_SPOC_model import *\n",
    "\n",
    "import matlab.engine\n",
    "from tqdm import tqdm_notebook\n",
    "from IPython.display import clear_output, display\n",
    "\n",
    "import random\n",
    "random.seed(42)\n",
    "np.random.seed(42)\n",
    "\n",
    "eng = matlab.engine.start_matlab()\n",
    "_ = eng.addpath('../../algorithms')"
   ]
  },
  {
   "cell_type": "code",
   "execution_count": null,
   "metadata": {
    "collapsed": true,
    "run_control": {
     "frozen": false,
     "read_only": false
    }
   },
   "outputs": [],
   "source": [
    "def load_data(adjacency_filepath, community_filepath):\n",
    "    G=nx.read_edgelist(adjacency_filepath, nodetype=int)\n",
    "    nodelist = list(G.nodes())\n",
    "    node2indx = {n: i for i, n in enumerate(nodelist)}\n",
    "    A = nx.to_scipy_sparse_matrix(G, nodelist=nodelist)\n",
    "    comms = {}\n",
    "\n",
    "    with open(community_filepath) as f:\n",
    "        for line in f:\n",
    "            args = line.split()\n",
    "            k = int(args[1]) - 1\n",
    "            if k not in comms:\n",
    "                comms[k] = ([], [])\n",
    "            comms[k][0].append(node2indx[int(args[0])])\n",
    "            comms[k][1].append(float(args[2]))\n",
    "\n",
    "    comm_count = len(comms)\n",
    "    comms_array = np.zeros((A.shape[0], comm_count))\n",
    "    for i in range(comm_count):\n",
    "        comms_array[comms[i][0], i] = comms[i][1]\n",
    "    return nodelist, A, comms_array"
   ]
  },
  {
   "cell_type": "code",
   "execution_count": null,
   "metadata": {
    "collapsed": true
   },
   "outputs": [],
   "source": [
    "# If you need particular data\n",
    "# import re\n",
    "# need_data = ['DBLP2', 'DBLP1']\n",
    "# need_data = \"|\".join(need_data)\n",
    "\n",
    "# data_paths = glob.glob('../../data/coauthorship/*_adjacency.txt')\n",
    "# if need_data != []:\n",
    "#     data_paths = filter(lambda x: re.findall(need_data, x) != [], data_paths)\n",
    "# data_paths\n",
    "# data_paths = [(adj, adj.replace(\"adjacency\", \"community\"))for adj in data_paths]\n",
    "# print(\"\\n\".join(\"{}, {}\".format(*data) for data in data_paths))"
   ]
  },
  {
   "cell_type": "code",
   "execution_count": null,
   "metadata": {
    "collapsed": false,
    "run_control": {
     "frozen": false,
     "read_only": false
    }
   },
   "outputs": [],
   "source": [
    "## Extract coauthorship.zip\n",
    "data_paths = glob.glob('../../data/coauthorship/*_adjacency.txt')\n",
    "data_paths = [(adj, adj.replace(\"adjacency\", \"community\"))for adj in data_paths]\n",
    "print(\"\\n\".join(\"{}, {}\".format(*data) for data in data_paths))"
   ]
  },
  {
   "cell_type": "markdown",
   "metadata": {
    "run_control": {
     "frozen": false,
     "read_only": false
    }
   },
   "source": [
    "#### SPOC methods from A matrix"
   ]
  },
  {
   "cell_type": "code",
   "execution_count": null,
   "metadata": {
    "collapsed": false,
    "run_control": {
     "frozen": false,
     "read_only": false
    },
    "scrolled": true
   },
   "outputs": [],
   "source": [
    "methods = {\n",
    "    \"SPOC\": lambda A, n_clusters: model.fit(A=A, n_clusters=n_clusters, use_cvxpy=True,\n",
    "                                            use_bootstrap=False, use_ellipsoid=True),\n",
    "    \"GeoNMF\": lambda A, n_clusters: eng.GeoNMF(A, n_clusters, 0.25, 0.95, nargout=2),\n",
    "    \"SPOC_bootstrap\": lambda A, n_clusters: model.fit(A=A, n_clusters=n_clusters, std_num=3,\n",
    "                                                      use_bootstrap=True, n_repetitions=10, )\n",
    "          }\n",
    "\n",
    "results = []\n",
    "for method_name in tqdm_notebook(methods):\n",
    "    print('\\t', method_name)\n",
    "    for data in tqdm_notebook(data_paths):\n",
    "        print(time())\n",
    "        nodelist, A, comms = load_data(*data)\n",
    "        n_clusters = comms.shape[1]\n",
    "        A_mat = matlab.double(A.todense().tolist())\n",
    "        print(data, '...', 'clusters:', n_clusters, \"nodes: \", A.shape[0])\n",
    "        time_start = time()\n",
    "        theta, b = methods[method_name](A_mat, n_clusters)\n",
    "        time_end = time()\n",
    "        res = {\"relative MSE\": find_permutation_Theta(comms, theta)[0], \n",
    "               \"Mean Spearman coefficient\": find_permutation_spearmanr(comms, theta)[0],\n",
    "               \"Method\": method_name,\n",
    "               \"Dataset\": data[0].split(\"/\")[-1].split(\"_\")[0],\n",
    "               \"cluster #\": n_clusters, \n",
    "               \"node #\": A.shape[0],\n",
    "               \"time (sec)\": time_end - time_start,\n",
    "              }\n",
    "        results.append(res)\n",
    "        print(res)"
   ]
  },
  {
   "cell_type": "code",
   "execution_count": null,
   "metadata": {
    "collapsed": false,
    "run_control": {
     "frozen": false,
     "read_only": false
    }
   },
   "outputs": [],
   "source": [
    "EXP_DATA = pd.DataFrame(results)\n",
    "EXP_DATA.to_csv('../../results/real_data.csv')"
   ]
  },
  {
   "cell_type": "code",
   "execution_count": null,
   "metadata": {
    "collapsed": true
   },
   "outputs": [],
   "source": []
  }
 ],
 "metadata": {
  "kernelspec": {
   "display_name": "Python 2",
   "language": "python",
   "name": "python2"
  },
  "language_info": {
   "codemirror_mode": {
    "name": "ipython",
    "version": 2
   },
   "file_extension": ".py",
   "mimetype": "text/x-python",
   "name": "python",
   "nbconvert_exporter": "python",
   "pygments_lexer": "ipython2",
   "version": "2.7.12"
  },
  "widgets": {
   "state": {
    "19c8441a2b2541b3a9edcc4ef4ae6566": {
     "views": [
      {
       "cell_index": 5
      }
     ]
    },
    "6da8065737744fe7b54b8758c7da73ac": {
     "views": [
      {
       "cell_index": 5
      }
     ]
    },
    "a73ddd6a63474405ba80e78c1ce5a279": {
     "views": [
      {
       "cell_index": 5
      }
     ]
    },
    "aa8f78b8f2504f5f8f5f38d1a86b3a93": {
     "views": [
      {
       "cell_index": 5
      }
     ]
    }
   },
   "version": "1.2.0"
  }
 },
 "nbformat": 4,
 "nbformat_minor": 1
}
