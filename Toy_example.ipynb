{
 "cells": [
  {
   "cell_type": "code",
   "execution_count": 1,
   "metadata": {
    "collapsed": true,
    "run_control": {
     "frozen": false,
     "read_only": false
    }
   },
   "outputs": [],
   "source": [
    "import numpy as np\n",
    "import pandas as pd\n",
    "from new_SPOC import *\n",
    "import old_SPOC as old_SPOC\n",
    "from generate_SPOC_model import *"
   ]
  },
  {
   "cell_type": "code",
   "execution_count": 2,
   "metadata": {
    "collapsed": true,
    "run_control": {
     "frozen": false,
     "read_only": false
    }
   },
   "outputs": [],
   "source": [
    "n_nodes = 1000\n",
    "n_clusters = 3\n",
    "pnn = 10\n",
    "\n",
    "Theta = generate_theta(n_nodes, n_clusters, pnn, seed=0)\n",
    "B = np.diag([0.1, 0.5, 0.1])\n",
    "P = Theta.dot(B).dot(Theta.T)\n",
    "A = P_to_A(P, reflect=False, seed=0)"
   ]
  },
  {
   "cell_type": "markdown",
   "metadata": {},
   "source": [
    "#### SPOC methods from A matrix"
   ]
  },
  {
   "cell_type": "code",
   "execution_count": 3,
   "metadata": {
    "run_control": {
     "frozen": false,
     "read_only": false
    }
   },
   "outputs": [
    {
     "name": "stdout",
     "output_type": "stream",
     "text": [
      "Theta relative error  0.271286659594\n",
      "B relative error  0.188153267754\n"
     ]
    }
   ],
   "source": [
    "#### new_SPOC method with an ellipsoid transformation and with cvxpy opt in get_Theta ####\n",
    "\n",
    "theta, b = SPOC(A, n_clusters, use_ellipsoid=True, use_convex_hull=True, use_cvxpy=True)\n",
    "err, _ = find_permutation_Theta(Theta, theta)\n",
    "print \"Theta relative error \", err \n",
    "\n",
    "err, _ = find_permutation_B(B, b)\n",
    "print \"B relative error \", err"
   ]
  },
  {
   "cell_type": "code",
   "execution_count": 4,
   "metadata": {},
   "outputs": [
    {
     "name": "stdout",
     "output_type": "stream",
     "text": [
      "Theta relative error  0.271286659596\n",
      "B relative error  0.188153267754\n"
     ]
    }
   ],
   "source": [
    "#### new_SPOC method without an ellipsoid transformation and with cvxpy opt in get_Theta ####\n",
    "\n",
    "theta, b = SPOC(A, n_clusters, use_ellipsoid=False, use_cvxpy=True)\n",
    "err, _ = find_permutation_Theta(Theta, theta)\n",
    "print \"Theta relative error \", err \n",
    "\n",
    "err, _ = find_permutation_B(B, b)\n",
    "print \"B relative error \", err"
   ]
  },
  {
   "cell_type": "code",
   "execution_count": 5,
   "metadata": {},
   "outputs": [
    {
     "name": "stdout",
     "output_type": "stream",
     "text": [
      "Theta relative error  0.264993983382\n",
      "B relative error  0.188153267754\n"
     ]
    }
   ],
   "source": [
    "#### new_SPOC method with an ellipsoid transformation and without cvxpy opt in get_Theta ####\n",
    "\n",
    "theta, b = SPOC(A, n_clusters, use_ellipsoid=True, use_convex_hull=True, use_cvxpy=False)\n",
    "err, _ = find_permutation_Theta(Theta, theta)\n",
    "print \"Theta relative error \", err \n",
    "\n",
    "err, _ = find_permutation_B(B, b)\n",
    "print \"B relative error \", err"
   ]
  },
  {
   "cell_type": "code",
   "execution_count": 6,
   "metadata": {},
   "outputs": [
    {
     "name": "stdout",
     "output_type": "stream",
     "text": [
      "Theta relative error  0.264993983382\n",
      "B relative error  0.188153267754\n"
     ]
    }
   ],
   "source": [
    "#### new_SPOC method without an ellipsoid transformation and without cvxpy in get_Theta ####\n",
    "\n",
    "theta, b = SPOC(A, n_clusters, use_ellipsoid=False, use_cvxpy=False)\n",
    "err, _ = find_permutation_Theta(Theta, theta)\n",
    "print \"Theta relative error \", err \n",
    "\n",
    "err, _ = find_permutation_B(B, b)\n",
    "print \"B relative error \", err"
   ]
  },
  {
   "cell_type": "code",
   "execution_count": 7,
   "metadata": {},
   "outputs": [
    {
     "name": "stdout",
     "output_type": "stream",
     "text": [
      "Theta relative error  0.263302744526\n",
      "B relative error  0.189661035909\n"
     ]
    }
   ],
   "source": [
    "#### old_SPOC method ####\n",
    "\n",
    "theta, b = old_SPOC.SPOC(A, n_clusters)\n",
    "err, _ = find_permutation_Theta(Theta, theta)\n",
    "print \"Theta relative error \", err \n",
    "\n",
    "err, _ = find_permutation_B(B, b)\n",
    "print \"B relative error \", err"
   ]
  }
 ],
 "metadata": {
  "kernelspec": {
   "display_name": "Python 2",
   "language": "python",
   "name": "python2"
  },
  "language_info": {
   "codemirror_mode": {
    "name": "ipython",
    "version": 2
   },
   "file_extension": ".py",
   "mimetype": "text/x-python",
   "name": "python",
   "nbconvert_exporter": "python",
   "pygments_lexer": "ipython2",
   "version": "2.7.13"
  }
 },
 "nbformat": 4,
 "nbformat_minor": 2
}
