{
 "cells": [
  {
   "cell_type": "code",
   "execution_count": 20,
   "metadata": {
    "run_control": {
     "frozen": false,
     "read_only": false
    }
   },
   "outputs": [],
   "source": [
    "import numpy as np\n",
    "import pandas as pd\n",
    "from new_SPOC import *\n",
    "import old_SPOC as old_SPOC\n",
    "from generate_SPOC_model import *\n",
    "import matplotlib.pyplot as plt\n",
    "import matplotlib\n",
    "from tqdm import tqdm_notebook, tqdm\n",
    "from IPython.display import clear_output, display\n",
    "\n",
    "%matplotlib inline"
   ]
  },
  {
   "cell_type": "code",
   "execution_count": 2,
   "metadata": {
    "run_control": {
     "frozen": false,
     "read_only": false
    }
   },
   "outputs": [
    {
     "data": {},
     "metadata": {},
     "output_type": "display_data"
    },
    {
     "name": "stdout",
     "output_type": "stream",
     "text": [
      "\n"
     ]
    },
    {
     "data": {},
     "metadata": {},
     "output_type": "display_data"
    },
    {
     "name": "stdout",
     "output_type": "stream",
     "text": [
      "\n"
     ]
    },
    {
     "data": {},
     "metadata": {},
     "output_type": "display_data"
    },
    {
     "name": "stdout",
     "output_type": "stream",
     "text": [
      "\n"
     ]
    },
    {
     "data": {},
     "metadata": {},
     "output_type": "display_data"
    },
    {
     "name": "stdout",
     "output_type": "stream",
     "text": [
      "\n"
     ]
    },
    {
     "data": {},
     "metadata": {},
     "output_type": "display_data"
    },
    {
     "name": "stdout",
     "output_type": "stream",
     "text": [
      "\n"
     ]
    },
    {
     "data": {},
     "metadata": {},
     "output_type": "display_data"
    },
    {
     "name": "stdout",
     "output_type": "stream",
     "text": [
      "\n"
     ]
    },
    {
     "data": {},
     "metadata": {},
     "output_type": "display_data"
    },
    {
     "name": "stdout",
     "output_type": "stream",
     "text": [
      "\n"
     ]
    },
    {
     "data": {},
     "metadata": {},
     "output_type": "display_data"
    },
    {
     "name": "stdout",
     "output_type": "stream",
     "text": [
      "\n"
     ]
    },
    {
     "data": {},
     "metadata": {},
     "output_type": "display_data"
    },
    {
     "name": "stdout",
     "output_type": "stream",
     "text": [
      "\n"
     ]
    }
   ],
   "source": [
    "n_nodes = 1000\n",
    "n_clusters = 3\n",
    "n_repetitions = 10\n",
    "pn_number = n_clusters\n",
    "\n",
    "EXP_DATA = pd.DataFrame(columns=[\"n_nodes\", \"n_clusters\", \"pure_nodes_number\", \"eps\",\\\n",
    "                                 \"seed\", \"method\", \"matrix\", \"error\"])\n",
    "\n",
    "for eps in np.arange(0.05, 0.5, 0.05):\n",
    "    B = np.diag([0.5-eps, 0.5, 0.5+eps])\n",
    "    B = B / np.max(B)\n",
    "    \n",
    "    for repeat in tqdm_notebook(range(n_repetitions)):\n",
    "        Theta = generate_theta(n_nodes=n_nodes, n_clusters=n_clusters, pure_nodes_number=pn_number, seed=repeat)\n",
    "        P = Theta.dot(B).dot(Theta.T)\n",
    "        A = P_to_A(P, seed=repeat)\n",
    "        \n",
    "        A_mat = matlab.double(A.tolist())\n",
    "        theta_geo, b_geo = eng.GeoNMF(A_mat, n_clusters, 0.25, 0.95, nargout=2)\n",
    "        theta_geo = np.array(theta_geo)\n",
    "        b_geo = np.array(b_geo)\n",
    "        \n",
    "        err, _ = find_permutation_Theta(Theta, theta_geo)\n",
    "        EXP_DATA = EXP_DATA.append({\"n_nodes\":n_nodes, \"n_clusters\":n_clusters, \"pure_nodes_number\":pn_number,\\\n",
    "                \"eps\":eps, \"seed\":repeat, \"method\":\"Geo_NMF\", \"matrix\":\"Theta\", \"error\":err}, ignore_index=True)\n",
    "        err, _ = find_permutation_B(B, b_geo)\n",
    "        EXP_DATA = EXP_DATA.append({\"n_nodes\":n_nodes, \"n_clusters\":n_clusters, \"pure_nodes_number\":pn_number,\\\n",
    "                \"eps\":eps, \"seed\":repeat, \"method\":\"Geo_NMF\", \"matrix\":\"B\", \"error\":err}, ignore_index=True)\n",
    "        \n",
    "        theta_spa, b_spa = SPOC(A, n_clusters)\n",
    "        err, _ = find_permutation_Theta(Theta, theta_spa)\n",
    "        EXP_DATA = EXP_DATA.append({\"n_nodes\":n_nodes, \"n_clusters\":n_clusters, \"pure_nodes_number\":pn_number,\\\n",
    "                \"eps\":eps, \"seed\":repeat, \"method\":\"basic_SPA\", \"matrix\":\"Theta\", \"error\":err}, ignore_index=True)\n",
    "        err, _ = find_permutation_B(B, b_spa)\n",
    "        EXP_DATA = EXP_DATA.append({\"n_nodes\":n_nodes, \"n_clusters\":n_clusters, \"pure_nodes_number\":pn_number,\\\n",
    "                \"eps\":eps, \"seed\":repeat, \"method\":\"basic_SPA\", \"matrix\":\"B\", \"error\":err}, ignore_index=True)\n",
    "        \n",
    "        theta_bootstrap, b_bootstrap = SPOC_bootstrap(A, n_clusters, n_repetitions=300, std_num=3)\n",
    "        err, _ = find_permutation_Theta(Theta, theta_bootstrap)\n",
    "        EXP_DATA = EXP_DATA.append({\"n_nodes\":n_nodes, \"n_clusters\":n_clusters, \"pure_nodes_number\":pn_number,\\\n",
    "                \"eps\":eps, \"seed\":repeat, \"method\":\"bootstrap_SPA\", \"matrix\":\"Theta\", \"error\":err}, ignore_index=True)\n",
    "        err, _ = find_permutation_B(B, b_bootstrap)\n",
    "        EXP_DATA = EXP_DATA.append({\"n_nodes\":n_nodes, \"n_clusters\":n_clusters, \"pure_nodes_number\":pn_number,\\\n",
    "                \"eps\":eps, \"seed\":repeat, \"method\":\"bootstrap_SPA\", \"matrix\":\"B\", \"error\":err}, ignore_index=True)\n",
    "\n",
    "EXP_DATA.to_csv(\"skewness.csv\", index=None)"
   ]
  },
  {
   "cell_type": "code",
   "execution_count": 33,
   "metadata": {
    "run_control": {
     "frozen": false,
     "read_only": false
    }
   },
   "outputs": [
    {
     "ename": "IOError",
     "evalue": "'presentation' not found in the style library and input is not a valid URL or path. See `style.available` for list of available styles.",
     "traceback": [
      "\u001b[0;31m---------------------------------------------------------------------------\u001b[0m",
      "\u001b[0;31mIOError\u001b[0m                                   Traceback (most recent call last)",
      "\u001b[0;32m<ipython-input-33-f24d819863ad>\u001b[0m in \u001b[0;36m<module>\u001b[0;34m()\u001b[0m\n\u001b[1;32m     25\u001b[0m         \u001b[0mplt\u001b[0m\u001b[0;34m.\u001b[0m\u001b[0mtitle\u001b[0m\u001b[0;34m(\u001b[0m\u001b[0mmatrix\u001b[0m\u001b[0;34m)\u001b[0m\u001b[0;34m\u001b[0m\u001b[0m\n\u001b[1;32m     26\u001b[0m         \u001b[0mplt\u001b[0m\u001b[0;34m.\u001b[0m\u001b[0mlegend\u001b[0m\u001b[0;34m(\u001b[0m\u001b[0mloc\u001b[0m\u001b[0;34m=\u001b[0m\u001b[0;34m\"upper left\"\u001b[0m\u001b[0;34m)\u001b[0m\u001b[0;34m\u001b[0m\u001b[0m\n\u001b[0;32m---> 27\u001b[0;31m         \u001b[0mplt\u001b[0m\u001b[0;34m.\u001b[0m\u001b[0mstyle\u001b[0m\u001b[0;34m.\u001b[0m\u001b[0muse\u001b[0m\u001b[0;34m(\u001b[0m\u001b[0;34m'presentation'\u001b[0m\u001b[0;34m)\u001b[0m\u001b[0;34m\u001b[0m\u001b[0m\n\u001b[0m\u001b[1;32m     28\u001b[0m         \u001b[0mmatplotlib\u001b[0m\u001b[0;34m.\u001b[0m\u001b[0mrcParams\u001b[0m\u001b[0;34m.\u001b[0m\u001b[0mupdate\u001b[0m\u001b[0;34m(\u001b[0m\u001b[0;34m{\u001b[0m\u001b[0;34m'font.size'\u001b[0m\u001b[0;34m:\u001b[0m \u001b[0;36m40\u001b[0m\u001b[0;34m}\u001b[0m\u001b[0;34m)\u001b[0m\u001b[0;34m\u001b[0m\u001b[0m\n\u001b[1;32m     29\u001b[0m         \u001b[0mplt\u001b[0m\u001b[0;34m.\u001b[0m\u001b[0mgrid\u001b[0m\u001b[0;34m(\u001b[0m\u001b[0;34m)\u001b[0m\u001b[0;34m\u001b[0m\u001b[0m\n",
      "\u001b[0;32m/usr/local/lib/python2.7/site-packages/matplotlib/style/core.pyc\u001b[0m in \u001b[0;36muse\u001b[0;34m(style)\u001b[0m\n\u001b[1;32m    111\u001b[0m                        \u001b[0;34m\"not a valid URL or path. See `style.available` for \"\u001b[0m\u001b[0;34m\u001b[0m\u001b[0m\n\u001b[1;32m    112\u001b[0m                        \"list of available styles.\")\n\u001b[0;32m--> 113\u001b[0;31m                 \u001b[0;32mraise\u001b[0m \u001b[0mIOError\u001b[0m\u001b[0;34m(\u001b[0m\u001b[0mmsg\u001b[0m \u001b[0;34m%\u001b[0m \u001b[0mstyle\u001b[0m\u001b[0;34m)\u001b[0m\u001b[0;34m\u001b[0m\u001b[0m\n\u001b[0m\u001b[1;32m    114\u001b[0m \u001b[0;34m\u001b[0m\u001b[0m\n\u001b[1;32m    115\u001b[0m \u001b[0;34m\u001b[0m\u001b[0m\n",
      "\u001b[0;31mIOError\u001b[0m: 'presentation' not found in the style library and input is not a valid URL or path. See `style.available` for list of available styles."
     ],
     "output_type": "error"
    },
    {
     "data": {
      "image/png": "[encoded data removed]",
      "text/plain": [
       "<matplotlib.figure.Figure at 0x114f95f50>"
      ]
     },
     "metadata": {},
     "output_type": "display_data"
    }
   ],
   "source": [
    "EXP_DATA = pd.read_csv(\"skewness.csv\")\n",
    "\n",
    "df = EXP_DATA.groupby([\"eps\",  \"method\", \"matrix\"]).error.mean().reset_index()\n",
    "std = EXP_DATA.groupby([\"eps\",  \"method\", \"matrix\"]).error.std().reset_index()\n",
    "\n",
    "fig = plt.figure(figsize=(16,8))\n",
    "\n",
    "for method in df.method.unique():\n",
    "    \n",
    "    if method == \"basic_SPA\":\n",
    "        continue\n",
    "    \n",
    "    method_df = df[df[\"method\"] == method]\n",
    "    std_df = std[std[\"method\"] == method]\n",
    "    \n",
    "    for num, matrix in enumerate(df.matrix.unique()):\n",
    "        matrix_df = method_df[method_df[\"matrix\"] == matrix]\n",
    "        matrix_std = std_df[std_df[\"matrix\"] == matrix]\n",
    "        \n",
    "        plt.subplot(1,2,num+1)\n",
    "        plt.plot(matrix_df.eps, matrix_df.error, label=method, marker='*', markersize=10)\n",
    "        plt.fill_between(matrix_std.eps, matrix_df.error - matrix_std.error, matrix_df.error + matrix_std.error,\\\n",
    "                         alpha=0.1)\n",
    "        plt.xlabel(\"eps\")\n",
    "        plt.ylabel(\"relarive error\")\n",
    "        plt.title(matrix)\n",
    "        plt.legend(loc=\"upper left\")\n",
    "        plt.style.use('presentation')\n",
    "        matplotlib.rcParams.update({'font.size': 40})\n",
    "        plt.grid()\n",
    "        #plt.tick_params(axis='both', which='major', labelsize=16)\n",
    "plt.savefig(\"skewness.png\")"
   ]
  },
  {
   "cell_type": "code",
   "execution_count": null,
   "metadata": {
    "collapsed": true,
    "run_control": {
     "frozen": false,
     "read_only": false
    }
   },
   "outputs": [],
   "source": []
  }
 ],
 "metadata": {
  "kernelspec": {
   "display_name": "Python 3",
   "language": "python",
   "name": "python3"
  },
  "language_info": {
   "codemirror_mode": {
    "name": "ipython",
    "version": 2
   },
   "file_extension": ".py",
   "mimetype": "text/x-python",
   "name": "python",
   "nbconvert_exporter": "python",
   "pygments_lexer": "ipython2",
   "version": "2.7.13"
  }
 },
 "nbformat": 4,
 "nbformat_minor": 2
}
